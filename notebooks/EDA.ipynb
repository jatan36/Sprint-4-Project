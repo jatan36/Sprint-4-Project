{
 "cells": [
  {
   "cell_type": "code",
   "execution_count": 1,
   "id": "39b379bd",
   "metadata": {},
   "outputs": [
    {
     "data": {
      "text/html": [
       "<div>\n",
       "<style scoped>\n",
       "    .dataframe tbody tr th:only-of-type {\n",
       "        vertical-align: middle;\n",
       "    }\n",
       "\n",
       "    .dataframe tbody tr th {\n",
       "        vertical-align: top;\n",
       "    }\n",
       "\n",
       "    .dataframe thead th {\n",
       "        text-align: right;\n",
       "    }\n",
       "</style>\n",
       "<table border=\"1\" class=\"dataframe\">\n",
       "  <thead>\n",
       "    <tr style=\"text-align: right;\">\n",
       "      <th></th>\n",
       "      <th>price</th>\n",
       "      <th>model_year</th>\n",
       "      <th>model</th>\n",
       "      <th>condition</th>\n",
       "      <th>cylinders</th>\n",
       "      <th>fuel</th>\n",
       "      <th>odometer</th>\n",
       "      <th>transmission</th>\n",
       "      <th>type</th>\n",
       "      <th>paint_color</th>\n",
       "      <th>is_4wd</th>\n",
       "      <th>date_posted</th>\n",
       "      <th>days_listed</th>\n",
       "      <th>manufacturer</th>\n",
       "    </tr>\n",
       "  </thead>\n",
       "  <tbody>\n",
       "    <tr>\n",
       "      <th>0</th>\n",
       "      <td>9400</td>\n",
       "      <td>2011.0</td>\n",
       "      <td>bmw x5</td>\n",
       "      <td>good</td>\n",
       "      <td>6.0</td>\n",
       "      <td>gas</td>\n",
       "      <td>145000.0</td>\n",
       "      <td>automatic</td>\n",
       "      <td>SUV</td>\n",
       "      <td>NaN</td>\n",
       "      <td>1.0</td>\n",
       "      <td>6/23/2018</td>\n",
       "      <td>19</td>\n",
       "      <td>BMW</td>\n",
       "    </tr>\n",
       "    <tr>\n",
       "      <th>1</th>\n",
       "      <td>25500</td>\n",
       "      <td>NaN</td>\n",
       "      <td>ford f-150</td>\n",
       "      <td>good</td>\n",
       "      <td>6.0</td>\n",
       "      <td>gas</td>\n",
       "      <td>88705.0</td>\n",
       "      <td>automatic</td>\n",
       "      <td>pickup</td>\n",
       "      <td>white</td>\n",
       "      <td>1.0</td>\n",
       "      <td>10/19/2018</td>\n",
       "      <td>50</td>\n",
       "      <td>FORD</td>\n",
       "    </tr>\n",
       "    <tr>\n",
       "      <th>2</th>\n",
       "      <td>5500</td>\n",
       "      <td>2013.0</td>\n",
       "      <td>hyundai sonata</td>\n",
       "      <td>like new</td>\n",
       "      <td>4.0</td>\n",
       "      <td>gas</td>\n",
       "      <td>110000.0</td>\n",
       "      <td>automatic</td>\n",
       "      <td>sedan</td>\n",
       "      <td>red</td>\n",
       "      <td>NaN</td>\n",
       "      <td>2/7/2019</td>\n",
       "      <td>79</td>\n",
       "      <td>HYUNDAI</td>\n",
       "    </tr>\n",
       "    <tr>\n",
       "      <th>3</th>\n",
       "      <td>1500</td>\n",
       "      <td>2003.0</td>\n",
       "      <td>ford f-150</td>\n",
       "      <td>fair</td>\n",
       "      <td>8.0</td>\n",
       "      <td>gas</td>\n",
       "      <td>NaN</td>\n",
       "      <td>automatic</td>\n",
       "      <td>pickup</td>\n",
       "      <td>NaN</td>\n",
       "      <td>NaN</td>\n",
       "      <td>3/22/2019</td>\n",
       "      <td>9</td>\n",
       "      <td>FORD</td>\n",
       "    </tr>\n",
       "    <tr>\n",
       "      <th>4</th>\n",
       "      <td>14900</td>\n",
       "      <td>2017.0</td>\n",
       "      <td>chrysler 200</td>\n",
       "      <td>excellent</td>\n",
       "      <td>4.0</td>\n",
       "      <td>gas</td>\n",
       "      <td>80903.0</td>\n",
       "      <td>automatic</td>\n",
       "      <td>sedan</td>\n",
       "      <td>black</td>\n",
       "      <td>NaN</td>\n",
       "      <td>4/2/2019</td>\n",
       "      <td>28</td>\n",
       "      <td>CHRYSLER</td>\n",
       "    </tr>\n",
       "    <tr>\n",
       "      <th>...</th>\n",
       "      <td>...</td>\n",
       "      <td>...</td>\n",
       "      <td>...</td>\n",
       "      <td>...</td>\n",
       "      <td>...</td>\n",
       "      <td>...</td>\n",
       "      <td>...</td>\n",
       "      <td>...</td>\n",
       "      <td>...</td>\n",
       "      <td>...</td>\n",
       "      <td>...</td>\n",
       "      <td>...</td>\n",
       "      <td>...</td>\n",
       "      <td>...</td>\n",
       "    </tr>\n",
       "    <tr>\n",
       "      <th>51520</th>\n",
       "      <td>9249</td>\n",
       "      <td>2013.0</td>\n",
       "      <td>nissan maxima</td>\n",
       "      <td>like new</td>\n",
       "      <td>6.0</td>\n",
       "      <td>gas</td>\n",
       "      <td>88136.0</td>\n",
       "      <td>automatic</td>\n",
       "      <td>sedan</td>\n",
       "      <td>black</td>\n",
       "      <td>NaN</td>\n",
       "      <td>10/3/2018</td>\n",
       "      <td>37</td>\n",
       "      <td>NISSAN</td>\n",
       "    </tr>\n",
       "    <tr>\n",
       "      <th>51521</th>\n",
       "      <td>2700</td>\n",
       "      <td>2002.0</td>\n",
       "      <td>honda civic</td>\n",
       "      <td>salvage</td>\n",
       "      <td>4.0</td>\n",
       "      <td>gas</td>\n",
       "      <td>181500.0</td>\n",
       "      <td>automatic</td>\n",
       "      <td>sedan</td>\n",
       "      <td>white</td>\n",
       "      <td>NaN</td>\n",
       "      <td>11/14/2018</td>\n",
       "      <td>22</td>\n",
       "      <td>HONDA</td>\n",
       "    </tr>\n",
       "    <tr>\n",
       "      <th>51522</th>\n",
       "      <td>3950</td>\n",
       "      <td>2009.0</td>\n",
       "      <td>hyundai sonata</td>\n",
       "      <td>excellent</td>\n",
       "      <td>4.0</td>\n",
       "      <td>gas</td>\n",
       "      <td>128000.0</td>\n",
       "      <td>automatic</td>\n",
       "      <td>sedan</td>\n",
       "      <td>blue</td>\n",
       "      <td>NaN</td>\n",
       "      <td>11/15/2018</td>\n",
       "      <td>32</td>\n",
       "      <td>HYUNDAI</td>\n",
       "    </tr>\n",
       "    <tr>\n",
       "      <th>51523</th>\n",
       "      <td>7455</td>\n",
       "      <td>2013.0</td>\n",
       "      <td>toyota corolla</td>\n",
       "      <td>good</td>\n",
       "      <td>4.0</td>\n",
       "      <td>gas</td>\n",
       "      <td>139573.0</td>\n",
       "      <td>automatic</td>\n",
       "      <td>sedan</td>\n",
       "      <td>black</td>\n",
       "      <td>NaN</td>\n",
       "      <td>7/2/2018</td>\n",
       "      <td>71</td>\n",
       "      <td>TOYOTA</td>\n",
       "    </tr>\n",
       "    <tr>\n",
       "      <th>51524</th>\n",
       "      <td>6300</td>\n",
       "      <td>2014.0</td>\n",
       "      <td>nissan altima</td>\n",
       "      <td>good</td>\n",
       "      <td>4.0</td>\n",
       "      <td>gas</td>\n",
       "      <td>NaN</td>\n",
       "      <td>automatic</td>\n",
       "      <td>sedan</td>\n",
       "      <td>NaN</td>\n",
       "      <td>NaN</td>\n",
       "      <td>6/5/2018</td>\n",
       "      <td>10</td>\n",
       "      <td>NISSAN</td>\n",
       "    </tr>\n",
       "  </tbody>\n",
       "</table>\n",
       "<p>51525 rows × 14 columns</p>\n",
       "</div>"
      ],
      "text/plain": [
       "       price  model_year           model  condition  cylinders fuel  odometer  \\\n",
       "0       9400      2011.0          bmw x5       good        6.0  gas  145000.0   \n",
       "1      25500         NaN      ford f-150       good        6.0  gas   88705.0   \n",
       "2       5500      2013.0  hyundai sonata   like new        4.0  gas  110000.0   \n",
       "3       1500      2003.0      ford f-150       fair        8.0  gas       NaN   \n",
       "4      14900      2017.0    chrysler 200  excellent        4.0  gas   80903.0   \n",
       "...      ...         ...             ...        ...        ...  ...       ...   \n",
       "51520   9249      2013.0   nissan maxima   like new        6.0  gas   88136.0   \n",
       "51521   2700      2002.0     honda civic    salvage        4.0  gas  181500.0   \n",
       "51522   3950      2009.0  hyundai sonata  excellent        4.0  gas  128000.0   \n",
       "51523   7455      2013.0  toyota corolla       good        4.0  gas  139573.0   \n",
       "51524   6300      2014.0   nissan altima       good        4.0  gas       NaN   \n",
       "\n",
       "      transmission    type paint_color  is_4wd date_posted  days_listed  \\\n",
       "0        automatic     SUV         NaN     1.0   6/23/2018           19   \n",
       "1        automatic  pickup       white     1.0  10/19/2018           50   \n",
       "2        automatic   sedan         red     NaN    2/7/2019           79   \n",
       "3        automatic  pickup         NaN     NaN   3/22/2019            9   \n",
       "4        automatic   sedan       black     NaN    4/2/2019           28   \n",
       "...            ...     ...         ...     ...         ...          ...   \n",
       "51520    automatic   sedan       black     NaN   10/3/2018           37   \n",
       "51521    automatic   sedan       white     NaN  11/14/2018           22   \n",
       "51522    automatic   sedan        blue     NaN  11/15/2018           32   \n",
       "51523    automatic   sedan       black     NaN    7/2/2018           71   \n",
       "51524    automatic   sedan         NaN     NaN    6/5/2018           10   \n",
       "\n",
       "      manufacturer  \n",
       "0              BMW  \n",
       "1             FORD  \n",
       "2          HYUNDAI  \n",
       "3             FORD  \n",
       "4         CHRYSLER  \n",
       "...            ...  \n",
       "51520       NISSAN  \n",
       "51521        HONDA  \n",
       "51522      HYUNDAI  \n",
       "51523       TOYOTA  \n",
       "51524       NISSAN  \n",
       "\n",
       "[51525 rows x 14 columns]"
      ]
     },
     "execution_count": 1,
     "metadata": {},
     "output_type": "execute_result"
    }
   ],
   "source": [
    "import pandas as pd\n",
    "import plotly.express as px\n",
    "df = pd.read_csv('vehicles_us.csv')\n",
    "df['manufacturer'] = df['model'].str.split(' ', n=1).str[0].str.upper()\n",
    "df"
   ]
  },
  {
   "cell_type": "code",
   "execution_count": 2,
   "id": "8bcadd05",
   "metadata": {},
   "outputs": [
    {
     "data": {
      "text/html": [
       "<div>\n",
       "<style scoped>\n",
       "    .dataframe tbody tr th:only-of-type {\n",
       "        vertical-align: middle;\n",
       "    }\n",
       "\n",
       "    .dataframe tbody tr th {\n",
       "        vertical-align: top;\n",
       "    }\n",
       "\n",
       "    .dataframe thead th {\n",
       "        text-align: right;\n",
       "    }\n",
       "</style>\n",
       "<table border=\"1\" class=\"dataframe\">\n",
       "  <thead>\n",
       "    <tr style=\"text-align: right;\">\n",
       "      <th></th>\n",
       "      <th>type</th>\n",
       "      <th>price</th>\n",
       "    </tr>\n",
       "  </thead>\n",
       "  <tbody>\n",
       "    <tr>\n",
       "      <th>4</th>\n",
       "      <td>hatchback</td>\n",
       "      <td>6868.513849</td>\n",
       "    </tr>\n",
       "    <tr>\n",
       "      <th>9</th>\n",
       "      <td>sedan</td>\n",
       "      <td>6965.358647</td>\n",
       "    </tr>\n",
       "    <tr>\n",
       "      <th>5</th>\n",
       "      <td>mini-van</td>\n",
       "      <td>8193.177433</td>\n",
       "    </tr>\n",
       "    <tr>\n",
       "      <th>12</th>\n",
       "      <td>wagon</td>\n",
       "      <td>9088.134328</td>\n",
       "    </tr>\n",
       "    <tr>\n",
       "      <th>11</th>\n",
       "      <td>van</td>\n",
       "      <td>10546.941548</td>\n",
       "    </tr>\n",
       "    <tr>\n",
       "      <th>7</th>\n",
       "      <td>other</td>\n",
       "      <td>10989.714844</td>\n",
       "    </tr>\n",
       "    <tr>\n",
       "      <th>0</th>\n",
       "      <td>SUV</td>\n",
       "      <td>11149.400000</td>\n",
       "    </tr>\n",
       "    <tr>\n",
       "      <th>6</th>\n",
       "      <td>offroad</td>\n",
       "      <td>14292.294393</td>\n",
       "    </tr>\n",
       "    <tr>\n",
       "      <th>3</th>\n",
       "      <td>coupe</td>\n",
       "      <td>14353.442901</td>\n",
       "    </tr>\n",
       "    <tr>\n",
       "      <th>2</th>\n",
       "      <td>convertible</td>\n",
       "      <td>14575.881166</td>\n",
       "    </tr>\n",
       "    <tr>\n",
       "      <th>8</th>\n",
       "      <td>pickup</td>\n",
       "      <td>16057.410418</td>\n",
       "    </tr>\n",
       "    <tr>\n",
       "      <th>10</th>\n",
       "      <td>truck</td>\n",
       "      <td>16734.894924</td>\n",
       "    </tr>\n",
       "    <tr>\n",
       "      <th>1</th>\n",
       "      <td>bus</td>\n",
       "      <td>17135.666667</td>\n",
       "    </tr>\n",
       "  </tbody>\n",
       "</table>\n",
       "</div>"
      ],
      "text/plain": [
       "           type         price\n",
       "4     hatchback   6868.513849\n",
       "9         sedan   6965.358647\n",
       "5      mini-van   8193.177433\n",
       "12        wagon   9088.134328\n",
       "11          van  10546.941548\n",
       "7         other  10989.714844\n",
       "0           SUV  11149.400000\n",
       "6       offroad  14292.294393\n",
       "3         coupe  14353.442901\n",
       "2   convertible  14575.881166\n",
       "8        pickup  16057.410418\n",
       "10        truck  16734.894924\n",
       "1           bus  17135.666667"
      ]
     },
     "execution_count": 2,
     "metadata": {},
     "output_type": "execute_result"
    }
   ],
   "source": [
    "# BREAKDOWN OF THE AVERAGE COST OF VEHICLE FOR EVERY VEHICLE TYPE\n",
    "df = df[['manufacturer', 'model', 'condition', 'type', 'fuel','odometer', 'price', 'paint_color']]\n",
    "df_1= df.groupby('type')['price'].mean().reset_index()\n",
    "df_1 = df_1.sort_values(by='price')\n",
    "df_1"
   ]
  },
  {
   "cell_type": "code",
   "execution_count": 3,
   "id": "ec031172",
   "metadata": {},
   "outputs": [
    {
     "data": {
      "application/vnd.plotly.v1+json": {
       "config": {
        "plotlyServerURL": "https://plot.ly"
       },
       "data": [
        {
         "bingroup": "x",
         "histfunc": "sum",
         "hovertemplate": "price=6868.513849092646<br>type=%{x}<br>sum of price=%{y}<extra></extra>",
         "legendgroup": "6868.513849092646",
         "marker": {
          "color": "#636efa",
          "pattern": {
           "shape": ""
          }
         },
         "name": "6868.513849092646",
         "orientation": "v",
         "showlegend": true,
         "type": "histogram",
         "x": [
          "hatchback"
         ],
         "xaxis": "x",
         "y": {
          "bdata": "/jedi4PUukA=",
          "dtype": "f8"
         },
         "yaxis": "y"
        },
        {
         "bingroup": "x",
         "histfunc": "sum",
         "hovertemplate": "price=6965.358647358894<br>type=%{x}<br>sum of price=%{y}<extra></extra>",
         "legendgroup": "6965.358647358894",
         "marker": {
          "color": "#EF553B",
          "pattern": {
           "shape": ""
          }
         },
         "name": "6965.358647358894",
         "orientation": "v",
         "showlegend": true,
         "type": "histogram",
         "x": [
          "sedan"
         ],
         "xaxis": "x",
         "y": {
          "bdata": "PzVQ0Fs1u0A=",
          "dtype": "f8"
         },
         "yaxis": "y"
        },
        {
         "bingroup": "x",
         "histfunc": "sum",
         "hovertemplate": "price=8193.177433247201<br>type=%{x}<br>sum of price=%{y}<extra></extra>",
         "legendgroup": "8193.177433247201",
         "marker": {
          "color": "#00cc96",
          "pattern": {
           "shape": ""
          }
         },
         "name": "8193.177433247201",
         "orientation": "v",
         "showlegend": true,
         "type": "histogram",
         "x": [
          "mini-van"
         ],
         "xaxis": "x",
         "y": {
          "bdata": "+vQhtpYAwEA=",
          "dtype": "f8"
         },
         "yaxis": "y"
        },
        {
         "bingroup": "x",
         "histfunc": "sum",
         "hovertemplate": "price=9088.134328358208<br>type=%{x}<br>sum of price=%{y}<extra></extra>",
         "legendgroup": "9088.134328358208",
         "marker": {
          "color": "#ab63fa",
          "pattern": {
           "shape": ""
          }
         },
         "name": "9088.134328358208",
         "orientation": "v",
         "showlegend": true,
         "type": "histogram",
         "x": [
          "wagon"
         ],
         "xaxis": "x",
         "y": {
          "bdata": "t/CrMRHAwUA=",
          "dtype": "f8"
         },
         "yaxis": "y"
        },
        {
         "bingroup": "x",
         "histfunc": "sum",
         "hovertemplate": "price=10546.941548183255<br>type=%{x}<br>sum of price=%{y}<extra></extra>",
         "legendgroup": "10546.941548183255",
         "marker": {
          "color": "#FFA15A",
          "pattern": {
           "shape": ""
          }
         },
         "name": "10546.941548183255",
         "orientation": "v",
         "showlegend": true,
         "type": "histogram",
         "x": [
          "van"
         ],
         "xaxis": "x",
         "y": {
          "bdata": "WJ+mhHiZxEA=",
          "dtype": "f8"
         },
         "yaxis": "y"
        },
        {
         "bingroup": "x",
         "histfunc": "sum",
         "hovertemplate": "price=10989.71484375<br>type=%{x}<br>sum of price=%{y}<extra></extra>",
         "legendgroup": "10989.71484375",
         "marker": {
          "color": "#19d3f3",
          "pattern": {
           "shape": ""
          }
         },
         "name": "10989.71484375",
         "orientation": "v",
         "showlegend": true,
         "type": "histogram",
         "x": [
          "other"
         ],
         "xaxis": "x",
         "y": {
          "bdata": "AAAAgNt2xUA=",
          "dtype": "f8"
         },
         "yaxis": "y"
        },
        {
         "bingroup": "x",
         "histfunc": "sum",
         "hovertemplate": "price=11149.4<br>type=%{x}<br>sum of price=%{y}<extra></extra>",
         "legendgroup": "11149.4",
         "marker": {
          "color": "#FF6692",
          "pattern": {
           "shape": ""
          }
         },
         "name": "11149.4",
         "orientation": "v",
         "showlegend": true,
         "type": "histogram",
         "x": [
          "SUV"
         ],
         "xaxis": "x",
         "y": {
          "bdata": "MzMzM7PGxUA=",
          "dtype": "f8"
         },
         "yaxis": "y"
        },
        {
         "bingroup": "x",
         "histfunc": "sum",
         "hovertemplate": "price=14292.294392523365<br>type=%{x}<br>sum of price=%{y}<extra></extra>",
         "legendgroup": "14292.294392523365",
         "marker": {
          "color": "#B6E880",
          "pattern": {
           "shape": ""
          }
         },
         "name": "14292.294392523365",
         "orientation": "v",
         "showlegend": true,
         "type": "histogram",
         "x": [
          "offroad"
         ],
         "xaxis": "x",
         "y": {
          "bdata": "BXqnriXqy0A=",
          "dtype": "f8"
         },
         "yaxis": "y"
        },
        {
         "bingroup": "x",
         "histfunc": "sum",
         "hovertemplate": "price=14353.442900564482<br>type=%{x}<br>sum of price=%{y}<extra></extra>",
         "legendgroup": "14353.442900564482",
         "marker": {
          "color": "#FF97FF",
          "pattern": {
           "shape": ""
          }
         },
         "name": "14353.442900564482",
         "orientation": "v",
         "showlegend": true,
         "type": "histogram",
         "x": [
          "coupe"
         ],
         "xaxis": "x",
         "y": {
          "bdata": "6jf3sLgIzEA=",
          "dtype": "f8"
         },
         "yaxis": "y"
        },
        {
         "bingroup": "x",
         "histfunc": "sum",
         "hovertemplate": "price=14575.881165919283<br>type=%{x}<br>sum of price=%{y}<extra></extra>",
         "legendgroup": "14575.881165919283",
         "marker": {
          "color": "#FECB52",
          "pattern": {
           "shape": ""
          }
         },
         "name": "14575.881165919283",
         "orientation": "v",
         "showlegend": true,
         "type": "histogram",
         "x": [
          "convertible"
         ],
         "xaxis": "x",
         "y": {
          "bdata": "1noLyvB3zEA=",
          "dtype": "f8"
         },
         "yaxis": "y"
        },
        {
         "bingroup": "x",
         "histfunc": "sum",
         "hovertemplate": "price=16057.410417859188<br>type=%{x}<br>sum of price=%{y}<extra></extra>",
         "legendgroup": "16057.410417859188",
         "marker": {
          "color": "#636efa",
          "pattern": {
           "shape": ""
          }
         },
         "name": "16057.410417859188",
         "orientation": "v",
         "showlegend": true,
         "type": "histogram",
         "x": [
          "pickup"
         ],
         "xaxis": "x",
         "y": {
          "bdata": "dImSiLRcz0A=",
          "dtype": "f8"
         },
         "yaxis": "y"
        },
        {
         "bingroup": "x",
         "histfunc": "sum",
         "hovertemplate": "price=16734.894924309883<br>type=%{x}<br>sum of price=%{y}<extra></extra>",
         "legendgroup": "16734.894924309883",
         "marker": {
          "color": "#EF553B",
          "pattern": {
           "shape": ""
          }
         },
         "name": "16734.894924309883",
         "orientation": "v",
         "showlegend": true,
         "type": "histogram",
         "x": [
          "truck"
         ],
         "xaxis": "x",
         "y": {
          "bdata": "1pxwRrlX0EA=",
          "dtype": "f8"
         },
         "yaxis": "y"
        },
        {
         "bingroup": "x",
         "histfunc": "sum",
         "hovertemplate": "price=17135.666666666668<br>type=%{x}<br>sum of price=%{y}<extra></extra>",
         "legendgroup": "17135.666666666668",
         "marker": {
          "color": "#00cc96",
          "pattern": {
           "shape": ""
          }
         },
         "name": "17135.666666666668",
         "orientation": "v",
         "showlegend": true,
         "type": "histogram",
         "x": [
          "bus"
         ],
         "xaxis": "x",
         "y": {
          "bdata": "q6qqquq70EA=",
          "dtype": "f8"
         },
         "yaxis": "y"
        }
       ],
       "layout": {
        "barmode": "relative",
        "legend": {
         "title": {
          "text": "price"
         },
         "tracegroupgap": 0
        },
        "template": {
         "data": {
          "bar": [
           {
            "error_x": {
             "color": "#2a3f5f"
            },
            "error_y": {
             "color": "#2a3f5f"
            },
            "marker": {
             "line": {
              "color": "#E5ECF6",
              "width": 0.5
             },
             "pattern": {
              "fillmode": "overlay",
              "size": 10,
              "solidity": 0.2
             }
            },
            "type": "bar"
           }
          ],
          "barpolar": [
           {
            "marker": {
             "line": {
              "color": "#E5ECF6",
              "width": 0.5
             },
             "pattern": {
              "fillmode": "overlay",
              "size": 10,
              "solidity": 0.2
             }
            },
            "type": "barpolar"
           }
          ],
          "carpet": [
           {
            "aaxis": {
             "endlinecolor": "#2a3f5f",
             "gridcolor": "white",
             "linecolor": "white",
             "minorgridcolor": "white",
             "startlinecolor": "#2a3f5f"
            },
            "baxis": {
             "endlinecolor": "#2a3f5f",
             "gridcolor": "white",
             "linecolor": "white",
             "minorgridcolor": "white",
             "startlinecolor": "#2a3f5f"
            },
            "type": "carpet"
           }
          ],
          "choropleth": [
           {
            "colorbar": {
             "outlinewidth": 0,
             "ticks": ""
            },
            "type": "choropleth"
           }
          ],
          "contour": [
           {
            "colorbar": {
             "outlinewidth": 0,
             "ticks": ""
            },
            "colorscale": [
             [
              0,
              "#0d0887"
             ],
             [
              0.1111111111111111,
              "#46039f"
             ],
             [
              0.2222222222222222,
              "#7201a8"
             ],
             [
              0.3333333333333333,
              "#9c179e"
             ],
             [
              0.4444444444444444,
              "#bd3786"
             ],
             [
              0.5555555555555556,
              "#d8576b"
             ],
             [
              0.6666666666666666,
              "#ed7953"
             ],
             [
              0.7777777777777778,
              "#fb9f3a"
             ],
             [
              0.8888888888888888,
              "#fdca26"
             ],
             [
              1,
              "#f0f921"
             ]
            ],
            "type": "contour"
           }
          ],
          "contourcarpet": [
           {
            "colorbar": {
             "outlinewidth": 0,
             "ticks": ""
            },
            "type": "contourcarpet"
           }
          ],
          "heatmap": [
           {
            "colorbar": {
             "outlinewidth": 0,
             "ticks": ""
            },
            "colorscale": [
             [
              0,
              "#0d0887"
             ],
             [
              0.1111111111111111,
              "#46039f"
             ],
             [
              0.2222222222222222,
              "#7201a8"
             ],
             [
              0.3333333333333333,
              "#9c179e"
             ],
             [
              0.4444444444444444,
              "#bd3786"
             ],
             [
              0.5555555555555556,
              "#d8576b"
             ],
             [
              0.6666666666666666,
              "#ed7953"
             ],
             [
              0.7777777777777778,
              "#fb9f3a"
             ],
             [
              0.8888888888888888,
              "#fdca26"
             ],
             [
              1,
              "#f0f921"
             ]
            ],
            "type": "heatmap"
           }
          ],
          "histogram": [
           {
            "marker": {
             "pattern": {
              "fillmode": "overlay",
              "size": 10,
              "solidity": 0.2
             }
            },
            "type": "histogram"
           }
          ],
          "histogram2d": [
           {
            "colorbar": {
             "outlinewidth": 0,
             "ticks": ""
            },
            "colorscale": [
             [
              0,
              "#0d0887"
             ],
             [
              0.1111111111111111,
              "#46039f"
             ],
             [
              0.2222222222222222,
              "#7201a8"
             ],
             [
              0.3333333333333333,
              "#9c179e"
             ],
             [
              0.4444444444444444,
              "#bd3786"
             ],
             [
              0.5555555555555556,
              "#d8576b"
             ],
             [
              0.6666666666666666,
              "#ed7953"
             ],
             [
              0.7777777777777778,
              "#fb9f3a"
             ],
             [
              0.8888888888888888,
              "#fdca26"
             ],
             [
              1,
              "#f0f921"
             ]
            ],
            "type": "histogram2d"
           }
          ],
          "histogram2dcontour": [
           {
            "colorbar": {
             "outlinewidth": 0,
             "ticks": ""
            },
            "colorscale": [
             [
              0,
              "#0d0887"
             ],
             [
              0.1111111111111111,
              "#46039f"
             ],
             [
              0.2222222222222222,
              "#7201a8"
             ],
             [
              0.3333333333333333,
              "#9c179e"
             ],
             [
              0.4444444444444444,
              "#bd3786"
             ],
             [
              0.5555555555555556,
              "#d8576b"
             ],
             [
              0.6666666666666666,
              "#ed7953"
             ],
             [
              0.7777777777777778,
              "#fb9f3a"
             ],
             [
              0.8888888888888888,
              "#fdca26"
             ],
             [
              1,
              "#f0f921"
             ]
            ],
            "type": "histogram2dcontour"
           }
          ],
          "mesh3d": [
           {
            "colorbar": {
             "outlinewidth": 0,
             "ticks": ""
            },
            "type": "mesh3d"
           }
          ],
          "parcoords": [
           {
            "line": {
             "colorbar": {
              "outlinewidth": 0,
              "ticks": ""
             }
            },
            "type": "parcoords"
           }
          ],
          "pie": [
           {
            "automargin": true,
            "type": "pie"
           }
          ],
          "scatter": [
           {
            "fillpattern": {
             "fillmode": "overlay",
             "size": 10,
             "solidity": 0.2
            },
            "type": "scatter"
           }
          ],
          "scatter3d": [
           {
            "line": {
             "colorbar": {
              "outlinewidth": 0,
              "ticks": ""
             }
            },
            "marker": {
             "colorbar": {
              "outlinewidth": 0,
              "ticks": ""
             }
            },
            "type": "scatter3d"
           }
          ],
          "scattercarpet": [
           {
            "marker": {
             "colorbar": {
              "outlinewidth": 0,
              "ticks": ""
             }
            },
            "type": "scattercarpet"
           }
          ],
          "scattergeo": [
           {
            "marker": {
             "colorbar": {
              "outlinewidth": 0,
              "ticks": ""
             }
            },
            "type": "scattergeo"
           }
          ],
          "scattergl": [
           {
            "marker": {
             "colorbar": {
              "outlinewidth": 0,
              "ticks": ""
             }
            },
            "type": "scattergl"
           }
          ],
          "scattermap": [
           {
            "marker": {
             "colorbar": {
              "outlinewidth": 0,
              "ticks": ""
             }
            },
            "type": "scattermap"
           }
          ],
          "scattermapbox": [
           {
            "marker": {
             "colorbar": {
              "outlinewidth": 0,
              "ticks": ""
             }
            },
            "type": "scattermapbox"
           }
          ],
          "scatterpolar": [
           {
            "marker": {
             "colorbar": {
              "outlinewidth": 0,
              "ticks": ""
             }
            },
            "type": "scatterpolar"
           }
          ],
          "scatterpolargl": [
           {
            "marker": {
             "colorbar": {
              "outlinewidth": 0,
              "ticks": ""
             }
            },
            "type": "scatterpolargl"
           }
          ],
          "scatterternary": [
           {
            "marker": {
             "colorbar": {
              "outlinewidth": 0,
              "ticks": ""
             }
            },
            "type": "scatterternary"
           }
          ],
          "surface": [
           {
            "colorbar": {
             "outlinewidth": 0,
             "ticks": ""
            },
            "colorscale": [
             [
              0,
              "#0d0887"
             ],
             [
              0.1111111111111111,
              "#46039f"
             ],
             [
              0.2222222222222222,
              "#7201a8"
             ],
             [
              0.3333333333333333,
              "#9c179e"
             ],
             [
              0.4444444444444444,
              "#bd3786"
             ],
             [
              0.5555555555555556,
              "#d8576b"
             ],
             [
              0.6666666666666666,
              "#ed7953"
             ],
             [
              0.7777777777777778,
              "#fb9f3a"
             ],
             [
              0.8888888888888888,
              "#fdca26"
             ],
             [
              1,
              "#f0f921"
             ]
            ],
            "type": "surface"
           }
          ],
          "table": [
           {
            "cells": {
             "fill": {
              "color": "#EBF0F8"
             },
             "line": {
              "color": "white"
             }
            },
            "header": {
             "fill": {
              "color": "#C8D4E3"
             },
             "line": {
              "color": "white"
             }
            },
            "type": "table"
           }
          ]
         },
         "layout": {
          "annotationdefaults": {
           "arrowcolor": "#2a3f5f",
           "arrowhead": 0,
           "arrowwidth": 1
          },
          "autotypenumbers": "strict",
          "coloraxis": {
           "colorbar": {
            "outlinewidth": 0,
            "ticks": ""
           }
          },
          "colorscale": {
           "diverging": [
            [
             0,
             "#8e0152"
            ],
            [
             0.1,
             "#c51b7d"
            ],
            [
             0.2,
             "#de77ae"
            ],
            [
             0.3,
             "#f1b6da"
            ],
            [
             0.4,
             "#fde0ef"
            ],
            [
             0.5,
             "#f7f7f7"
            ],
            [
             0.6,
             "#e6f5d0"
            ],
            [
             0.7,
             "#b8e186"
            ],
            [
             0.8,
             "#7fbc41"
            ],
            [
             0.9,
             "#4d9221"
            ],
            [
             1,
             "#276419"
            ]
           ],
           "sequential": [
            [
             0,
             "#0d0887"
            ],
            [
             0.1111111111111111,
             "#46039f"
            ],
            [
             0.2222222222222222,
             "#7201a8"
            ],
            [
             0.3333333333333333,
             "#9c179e"
            ],
            [
             0.4444444444444444,
             "#bd3786"
            ],
            [
             0.5555555555555556,
             "#d8576b"
            ],
            [
             0.6666666666666666,
             "#ed7953"
            ],
            [
             0.7777777777777778,
             "#fb9f3a"
            ],
            [
             0.8888888888888888,
             "#fdca26"
            ],
            [
             1,
             "#f0f921"
            ]
           ],
           "sequentialminus": [
            [
             0,
             "#0d0887"
            ],
            [
             0.1111111111111111,
             "#46039f"
            ],
            [
             0.2222222222222222,
             "#7201a8"
            ],
            [
             0.3333333333333333,
             "#9c179e"
            ],
            [
             0.4444444444444444,
             "#bd3786"
            ],
            [
             0.5555555555555556,
             "#d8576b"
            ],
            [
             0.6666666666666666,
             "#ed7953"
            ],
            [
             0.7777777777777778,
             "#fb9f3a"
            ],
            [
             0.8888888888888888,
             "#fdca26"
            ],
            [
             1,
             "#f0f921"
            ]
           ]
          },
          "colorway": [
           "#636efa",
           "#EF553B",
           "#00cc96",
           "#ab63fa",
           "#FFA15A",
           "#19d3f3",
           "#FF6692",
           "#B6E880",
           "#FF97FF",
           "#FECB52"
          ],
          "font": {
           "color": "#2a3f5f"
          },
          "geo": {
           "bgcolor": "white",
           "lakecolor": "white",
           "landcolor": "#E5ECF6",
           "showlakes": true,
           "showland": true,
           "subunitcolor": "white"
          },
          "hoverlabel": {
           "align": "left"
          },
          "hovermode": "closest",
          "mapbox": {
           "style": "light"
          },
          "paper_bgcolor": "white",
          "plot_bgcolor": "#E5ECF6",
          "polar": {
           "angularaxis": {
            "gridcolor": "white",
            "linecolor": "white",
            "ticks": ""
           },
           "bgcolor": "#E5ECF6",
           "radialaxis": {
            "gridcolor": "white",
            "linecolor": "white",
            "ticks": ""
           }
          },
          "scene": {
           "xaxis": {
            "backgroundcolor": "#E5ECF6",
            "gridcolor": "white",
            "gridwidth": 2,
            "linecolor": "white",
            "showbackground": true,
            "ticks": "",
            "zerolinecolor": "white"
           },
           "yaxis": {
            "backgroundcolor": "#E5ECF6",
            "gridcolor": "white",
            "gridwidth": 2,
            "linecolor": "white",
            "showbackground": true,
            "ticks": "",
            "zerolinecolor": "white"
           },
           "zaxis": {
            "backgroundcolor": "#E5ECF6",
            "gridcolor": "white",
            "gridwidth": 2,
            "linecolor": "white",
            "showbackground": true,
            "ticks": "",
            "zerolinecolor": "white"
           }
          },
          "shapedefaults": {
           "line": {
            "color": "#2a3f5f"
           }
          },
          "ternary": {
           "aaxis": {
            "gridcolor": "white",
            "linecolor": "white",
            "ticks": ""
           },
           "baxis": {
            "gridcolor": "white",
            "linecolor": "white",
            "ticks": ""
           },
           "bgcolor": "#E5ECF6",
           "caxis": {
            "gridcolor": "white",
            "linecolor": "white",
            "ticks": ""
           }
          },
          "title": {
           "x": 0.05
          },
          "xaxis": {
           "automargin": true,
           "gridcolor": "white",
           "linecolor": "white",
           "ticks": "",
           "title": {
            "standoff": 15
           },
           "zerolinecolor": "white",
           "zerolinewidth": 2
          },
          "yaxis": {
           "automargin": true,
           "gridcolor": "white",
           "linecolor": "white",
           "ticks": "",
           "title": {
            "standoff": 15
           },
           "zerolinecolor": "white",
           "zerolinewidth": 2
          }
         }
        },
        "title": {
         "text": "Average Price per Type of Vehicle"
        },
        "xaxis": {
         "anchor": "y",
         "domain": [
          0,
          1
         ],
         "title": {
          "text": "Car Type"
         }
        },
        "yaxis": {
         "anchor": "x",
         "categoryarray": [
          17135.666666666668,
          16734.894924309883,
          16057.410417859188,
          14575.881165919283,
          14353.442900564482,
          14292.294392523365,
          11149.4,
          10989.71484375,
          10546.941548183255,
          9088.134328358208,
          8193.177433247201,
          6965.358647358894,
          6868.513849092646
         ],
         "categoryorder": "array",
         "domain": [
          0,
          1
         ],
         "title": {
          "text": "Average Price"
         }
        }
       }
      }
     },
     "metadata": {},
     "output_type": "display_data"
    }
   ],
   "source": [
    "fig = px.histogram(df_1, x=\"type\", y = 'price', color = 'price', title=\"Average Price per Type of Vehicle\")\n",
    "\n",
    "fig.update_xaxes(title_text=\"Car Type\")\n",
    "fig.update_yaxes(title_text=\"Average Price\")\n",
    "fig.show()"
   ]
  },
  {
   "cell_type": "code",
   "execution_count": 4,
   "id": "07ee89a6",
   "metadata": {},
   "outputs": [
    {
     "data": {
      "text/html": [
       "<div>\n",
       "<style scoped>\n",
       "    .dataframe tbody tr th:only-of-type {\n",
       "        vertical-align: middle;\n",
       "    }\n",
       "\n",
       "    .dataframe tbody tr th {\n",
       "        vertical-align: top;\n",
       "    }\n",
       "\n",
       "    .dataframe thead th {\n",
       "        text-align: right;\n",
       "    }\n",
       "</style>\n",
       "<table border=\"1\" class=\"dataframe\">\n",
       "  <thead>\n",
       "    <tr style=\"text-align: right;\">\n",
       "      <th></th>\n",
       "      <th>manufacturer</th>\n",
       "      <th>condition</th>\n",
       "      <th>odometer</th>\n",
       "    </tr>\n",
       "  </thead>\n",
       "  <tbody>\n",
       "    <tr>\n",
       "      <th>0</th>\n",
       "      <td>ACURA</td>\n",
       "      <td>excellent</td>\n",
       "      <td>129798.942529</td>\n",
       "    </tr>\n",
       "    <tr>\n",
       "      <th>1</th>\n",
       "      <td>ACURA</td>\n",
       "      <td>fair</td>\n",
       "      <td>213800.000000</td>\n",
       "    </tr>\n",
       "    <tr>\n",
       "      <th>2</th>\n",
       "      <td>ACURA</td>\n",
       "      <td>good</td>\n",
       "      <td>152958.892857</td>\n",
       "    </tr>\n",
       "    <tr>\n",
       "      <th>3</th>\n",
       "      <td>ACURA</td>\n",
       "      <td>like new</td>\n",
       "      <td>125218.761905</td>\n",
       "    </tr>\n",
       "    <tr>\n",
       "      <th>4</th>\n",
       "      <td>BMW</td>\n",
       "      <td>excellent</td>\n",
       "      <td>104353.404412</td>\n",
       "    </tr>\n",
       "    <tr>\n",
       "      <th>...</th>\n",
       "      <td>...</td>\n",
       "      <td>...</td>\n",
       "      <td>...</td>\n",
       "    </tr>\n",
       "    <tr>\n",
       "      <th>94</th>\n",
       "      <td>VOLKSWAGEN</td>\n",
       "      <td>fair</td>\n",
       "      <td>173506.074074</td>\n",
       "    </tr>\n",
       "    <tr>\n",
       "      <th>95</th>\n",
       "      <td>VOLKSWAGEN</td>\n",
       "      <td>good</td>\n",
       "      <td>123714.247934</td>\n",
       "    </tr>\n",
       "    <tr>\n",
       "      <th>96</th>\n",
       "      <td>VOLKSWAGEN</td>\n",
       "      <td>like new</td>\n",
       "      <td>84963.421687</td>\n",
       "    </tr>\n",
       "    <tr>\n",
       "      <th>97</th>\n",
       "      <td>VOLKSWAGEN</td>\n",
       "      <td>new</td>\n",
       "      <td>126766.666667</td>\n",
       "    </tr>\n",
       "    <tr>\n",
       "      <th>98</th>\n",
       "      <td>VOLKSWAGEN</td>\n",
       "      <td>salvage</td>\n",
       "      <td>221000.000000</td>\n",
       "    </tr>\n",
       "  </tbody>\n",
       "</table>\n",
       "<p>99 rows × 3 columns</p>\n",
       "</div>"
      ],
      "text/plain": [
       "   manufacturer  condition       odometer\n",
       "0         ACURA  excellent  129798.942529\n",
       "1         ACURA       fair  213800.000000\n",
       "2         ACURA       good  152958.892857\n",
       "3         ACURA   like new  125218.761905\n",
       "4           BMW  excellent  104353.404412\n",
       "..          ...        ...            ...\n",
       "94   VOLKSWAGEN       fair  173506.074074\n",
       "95   VOLKSWAGEN       good  123714.247934\n",
       "96   VOLKSWAGEN   like new   84963.421687\n",
       "97   VOLKSWAGEN        new  126766.666667\n",
       "98   VOLKSWAGEN    salvage  221000.000000\n",
       "\n",
       "[99 rows x 3 columns]"
      ]
     },
     "execution_count": 4,
     "metadata": {},
     "output_type": "execute_result"
    }
   ],
   "source": [
    "# BREAKDOWN OF CAR CONDITIONS VS AVERAGE MILES DRIVEN FOR EVERY CAR MANUFACTURER\n",
    "df_2 = df.groupby(['manufacturer', 'condition'])['odometer'].mean().reset_index()\n",
    "df_2"
   ]
  },
  {
   "cell_type": "code",
   "execution_count": 5,
   "id": "48eb7fe2",
   "metadata": {},
   "outputs": [
    {
     "data": {
      "application/vnd.plotly.v1+json": {
       "config": {
        "plotlyServerURL": "https://plot.ly"
       },
       "data": [
        {
         "bingroup": "x",
         "histfunc": "sum",
         "hovertemplate": "condition=excellent<br>manufacturer=%{x}<br>sum of odometer=%{y}<extra></extra>",
         "legendgroup": "excellent",
         "marker": {
          "color": "#636efa",
          "pattern": {
           "shape": ""
          }
         },
         "name": "excellent",
         "orientation": "v",
         "showlegend": true,
         "type": "histogram",
         "x": [
          "ACURA",
          "BMW",
          "BUICK",
          "CADILLAC",
          "CHEVROLET",
          "CHRYSLER",
          "DODGE",
          "FORD",
          "GMC",
          "HONDA",
          "HYUNDAI",
          "JEEP",
          "KIA",
          "MERCEDES-BENZ",
          "NISSAN",
          "RAM",
          "SUBARU",
          "TOYOTA",
          "VOLKSWAGEN"
         ],
         "xaxis": "x",
         "y": {
          "bdata": "8QKZFG+w/0B4eHh4Fnr5QNpLaC/hB/xAO1cekNx3/UCjeZsoZvv5QEZlVEYF5fhATU1NTYXm9kDEmnSMrWL6QLm6fzQPEvxA2ozvj9Sj+0BUL+ZT/0D4QMRCWR4fufhA9FMJAfku9kAAAAAAAAD4f69STNBdQPZA/I2y+/n7+kDwrSModWD6QIH2NZPX5PtAZ/0Z/P649EA=",
          "dtype": "f8"
         },
         "yaxis": "y"
        },
        {
         "bingroup": "x",
         "histfunc": "sum",
         "hovertemplate": "condition=fair<br>manufacturer=%{x}<br>sum of odometer=%{y}<extra></extra>",
         "legendgroup": "fair",
         "marker": {
          "color": "#EF553B",
          "pattern": {
           "shape": ""
          }
         },
         "name": "fair",
         "orientation": "v",
         "showlegend": true,
         "type": "histogram",
         "x": [
          "ACURA",
          "BMW",
          "BUICK",
          "CADILLAC",
          "CHEVROLET",
          "CHRYSLER",
          "DODGE",
          "FORD",
          "GMC",
          "HONDA",
          "HYUNDAI",
          "JEEP",
          "KIA",
          "NISSAN",
          "RAM",
          "SUBARU",
          "TOYOTA",
          "VOLKSWAGEN"
         ],
         "xaxis": "x",
         "y": {
          "bdata": "AAAAAEAZCkEAAAAAgHf+QAAAAABIKgdBAAAAAABqCEGchefHjKQFQQAAAADghQdBH8F9BO/lBUFjytdhIRcGQZqZmZmKdAZB3eqMVFRDB0HOOeecG8YDQQNhpB0LlwZBAAAAAA7PBEFSuB6F/9sBQVVVVdVKiwZBU0oppWyuB0GEDz74cHYJQe0ltJcQLgVB",
          "dtype": "f8"
         },
         "yaxis": "y"
        },
        {
         "bingroup": "x",
         "histfunc": "sum",
         "hovertemplate": "condition=good<br>manufacturer=%{x}<br>sum of odometer=%{y}<extra></extra>",
         "legendgroup": "good",
         "marker": {
          "color": "#00cc96",
          "pattern": {
           "shape": ""
          }
         },
         "name": "good",
         "orientation": "v",
         "showlegend": true,
         "type": "histogram",
         "x": [
          "ACURA",
          "BMW",
          "BUICK",
          "CADILLAC",
          "CHEVROLET",
          "CHRYSLER",
          "DODGE",
          "FORD",
          "GMC",
          "HONDA",
          "HYUNDAI",
          "JEEP",
          "KIA",
          "NISSAN",
          "RAM",
          "SUBARU",
          "TOYOTA",
          "VOLKSWAGEN"
         ],
         "xaxis": "x",
         "y": {
          "bdata": "JUmSJPerAkH8akykl5IAQeh5nuf5Tf1AEEbasfJxAUH1fFIPPzn+QAz6gr5wwv1Ay3u1RX5JAEEgjP30efX+QAAAAIgM3QFBQHtyHqFVAkHBeCv7TCr8QIt+zmyjRf9AdnAEkXak+UABn6ntu432QEs8MMDZ0wFB1/IDMtQpAUFH0MmfhkcCQUqFifcjNP5A",
          "dtype": "f8"
         },
         "yaxis": "y"
        },
        {
         "bingroup": "x",
         "histfunc": "sum",
         "hovertemplate": "condition=like new<br>manufacturer=%{x}<br>sum of odometer=%{y}<extra></extra>",
         "legendgroup": "like new",
         "marker": {
          "color": "#ab63fa",
          "pattern": {
           "shape": ""
          }
         },
         "name": "like new",
         "orientation": "v",
         "showlegend": true,
         "type": "histogram",
         "x": [
          "ACURA",
          "BMW",
          "BUICK",
          "CADILLAC",
          "CHEVROLET",
          "CHRYSLER",
          "DODGE",
          "FORD",
          "GMC",
          "HONDA",
          "HYUNDAI",
          "JEEP",
          "KIA",
          "NISSAN",
          "RAM",
          "SUBARU",
          "TOYOTA",
          "VOLKSWAGEN"
         ],
         "xaxis": "x",
         "y": {
          "bdata": "MQzDMCyS/kA4velNvyP4QPcS2kvYnPVAfO+9934p8UAT4uXfDcHxQNC6wRSpwPVAF1100QWk7UBLHqUQTsL0QLCvr6+jX/VA7Ovr68sy9UC1fqVA3VHyQM+SoNfToPFAAAAAAMDG8EA0SvyM2szvQOqhHuq5BvFAxCJl4Kki90B7Ce0lhzj2QDiaOr82vvRA",
          "dtype": "f8"
         },
         "yaxis": "y"
        },
        {
         "bingroup": "x",
         "histfunc": "sum",
         "hovertemplate": "condition=salvage<br>manufacturer=%{x}<br>sum of odometer=%{y}<extra></extra>",
         "legendgroup": "salvage",
         "marker": {
          "color": "#FFA15A",
          "pattern": {
           "shape": ""
          }
         },
         "name": "salvage",
         "orientation": "v",
         "showlegend": true,
         "type": "histogram",
         "x": [
          "CADILLAC",
          "CHEVROLET",
          "DODGE",
          "FORD",
          "GMC",
          "HONDA",
          "HYUNDAI",
          "JEEP",
          "NISSAN",
          "RAM",
          "SUBARU",
          "TOYOTA",
          "VOLKSWAGEN"
         ],
         "xaxis": "x",
         "y": {
          "bdata": "AAAAAABe+kDNzMzMBPn9QAAAAACst/tAKVyPwl2hAUGrqqqqaqELQY7jOI7LPgFBAAAAAECR30AAAAAAoJ0CQUmSJEmKRfNAmpmZmZHYAkEAAAAAKqQIQfHw8PC45wRBAAAAAED6CkE=",
          "dtype": "f8"
         },
         "yaxis": "y"
        },
        {
         "bingroup": "x",
         "histfunc": "sum",
         "hovertemplate": "condition=new<br>manufacturer=%{x}<br>sum of odometer=%{y}<extra></extra>",
         "legendgroup": "new",
         "marker": {
          "color": "#19d3f3",
          "pattern": {
           "shape": ""
          }
         },
         "name": "new",
         "orientation": "v",
         "showlegend": true,
         "type": "histogram",
         "x": [
          "CHEVROLET",
          "CHRYSLER",
          "DODGE",
          "FORD",
          "GMC",
          "HONDA",
          "HYUNDAI",
          "JEEP",
          "NISSAN",
          "RAM",
          "SUBARU",
          "TOYOTA",
          "VOLKSWAGEN"
         ],
         "xaxis": "x",
         "y": {
          "bdata": "6k1velNcz0AAAAAAAFL8QAAAAAAAQGlAAAAAAOxV5UDNzMzMzKykQAAAAAC4fvJAVVVVVVXR4ECrqqqq8uT6QAAAAABgC+pAbtu2bbse6UBVVVVVFQvyQAAAAACQkOxAq6qqqury/kA=",
          "dtype": "f8"
         },
         "yaxis": "y"
        }
       ],
       "layout": {
        "barmode": "relative",
        "legend": {
         "title": {
          "text": "condition"
         },
         "tracegroupgap": 0
        },
        "template": {
         "data": {
          "bar": [
           {
            "error_x": {
             "color": "#2a3f5f"
            },
            "error_y": {
             "color": "#2a3f5f"
            },
            "marker": {
             "line": {
              "color": "#E5ECF6",
              "width": 0.5
             },
             "pattern": {
              "fillmode": "overlay",
              "size": 10,
              "solidity": 0.2
             }
            },
            "type": "bar"
           }
          ],
          "barpolar": [
           {
            "marker": {
             "line": {
              "color": "#E5ECF6",
              "width": 0.5
             },
             "pattern": {
              "fillmode": "overlay",
              "size": 10,
              "solidity": 0.2
             }
            },
            "type": "barpolar"
           }
          ],
          "carpet": [
           {
            "aaxis": {
             "endlinecolor": "#2a3f5f",
             "gridcolor": "white",
             "linecolor": "white",
             "minorgridcolor": "white",
             "startlinecolor": "#2a3f5f"
            },
            "baxis": {
             "endlinecolor": "#2a3f5f",
             "gridcolor": "white",
             "linecolor": "white",
             "minorgridcolor": "white",
             "startlinecolor": "#2a3f5f"
            },
            "type": "carpet"
           }
          ],
          "choropleth": [
           {
            "colorbar": {
             "outlinewidth": 0,
             "ticks": ""
            },
            "type": "choropleth"
           }
          ],
          "contour": [
           {
            "colorbar": {
             "outlinewidth": 0,
             "ticks": ""
            },
            "colorscale": [
             [
              0,
              "#0d0887"
             ],
             [
              0.1111111111111111,
              "#46039f"
             ],
             [
              0.2222222222222222,
              "#7201a8"
             ],
             [
              0.3333333333333333,
              "#9c179e"
             ],
             [
              0.4444444444444444,
              "#bd3786"
             ],
             [
              0.5555555555555556,
              "#d8576b"
             ],
             [
              0.6666666666666666,
              "#ed7953"
             ],
             [
              0.7777777777777778,
              "#fb9f3a"
             ],
             [
              0.8888888888888888,
              "#fdca26"
             ],
             [
              1,
              "#f0f921"
             ]
            ],
            "type": "contour"
           }
          ],
          "contourcarpet": [
           {
            "colorbar": {
             "outlinewidth": 0,
             "ticks": ""
            },
            "type": "contourcarpet"
           }
          ],
          "heatmap": [
           {
            "colorbar": {
             "outlinewidth": 0,
             "ticks": ""
            },
            "colorscale": [
             [
              0,
              "#0d0887"
             ],
             [
              0.1111111111111111,
              "#46039f"
             ],
             [
              0.2222222222222222,
              "#7201a8"
             ],
             [
              0.3333333333333333,
              "#9c179e"
             ],
             [
              0.4444444444444444,
              "#bd3786"
             ],
             [
              0.5555555555555556,
              "#d8576b"
             ],
             [
              0.6666666666666666,
              "#ed7953"
             ],
             [
              0.7777777777777778,
              "#fb9f3a"
             ],
             [
              0.8888888888888888,
              "#fdca26"
             ],
             [
              1,
              "#f0f921"
             ]
            ],
            "type": "heatmap"
           }
          ],
          "histogram": [
           {
            "marker": {
             "pattern": {
              "fillmode": "overlay",
              "size": 10,
              "solidity": 0.2
             }
            },
            "type": "histogram"
           }
          ],
          "histogram2d": [
           {
            "colorbar": {
             "outlinewidth": 0,
             "ticks": ""
            },
            "colorscale": [
             [
              0,
              "#0d0887"
             ],
             [
              0.1111111111111111,
              "#46039f"
             ],
             [
              0.2222222222222222,
              "#7201a8"
             ],
             [
              0.3333333333333333,
              "#9c179e"
             ],
             [
              0.4444444444444444,
              "#bd3786"
             ],
             [
              0.5555555555555556,
              "#d8576b"
             ],
             [
              0.6666666666666666,
              "#ed7953"
             ],
             [
              0.7777777777777778,
              "#fb9f3a"
             ],
             [
              0.8888888888888888,
              "#fdca26"
             ],
             [
              1,
              "#f0f921"
             ]
            ],
            "type": "histogram2d"
           }
          ],
          "histogram2dcontour": [
           {
            "colorbar": {
             "outlinewidth": 0,
             "ticks": ""
            },
            "colorscale": [
             [
              0,
              "#0d0887"
             ],
             [
              0.1111111111111111,
              "#46039f"
             ],
             [
              0.2222222222222222,
              "#7201a8"
             ],
             [
              0.3333333333333333,
              "#9c179e"
             ],
             [
              0.4444444444444444,
              "#bd3786"
             ],
             [
              0.5555555555555556,
              "#d8576b"
             ],
             [
              0.6666666666666666,
              "#ed7953"
             ],
             [
              0.7777777777777778,
              "#fb9f3a"
             ],
             [
              0.8888888888888888,
              "#fdca26"
             ],
             [
              1,
              "#f0f921"
             ]
            ],
            "type": "histogram2dcontour"
           }
          ],
          "mesh3d": [
           {
            "colorbar": {
             "outlinewidth": 0,
             "ticks": ""
            },
            "type": "mesh3d"
           }
          ],
          "parcoords": [
           {
            "line": {
             "colorbar": {
              "outlinewidth": 0,
              "ticks": ""
             }
            },
            "type": "parcoords"
           }
          ],
          "pie": [
           {
            "automargin": true,
            "type": "pie"
           }
          ],
          "scatter": [
           {
            "fillpattern": {
             "fillmode": "overlay",
             "size": 10,
             "solidity": 0.2
            },
            "type": "scatter"
           }
          ],
          "scatter3d": [
           {
            "line": {
             "colorbar": {
              "outlinewidth": 0,
              "ticks": ""
             }
            },
            "marker": {
             "colorbar": {
              "outlinewidth": 0,
              "ticks": ""
             }
            },
            "type": "scatter3d"
           }
          ],
          "scattercarpet": [
           {
            "marker": {
             "colorbar": {
              "outlinewidth": 0,
              "ticks": ""
             }
            },
            "type": "scattercarpet"
           }
          ],
          "scattergeo": [
           {
            "marker": {
             "colorbar": {
              "outlinewidth": 0,
              "ticks": ""
             }
            },
            "type": "scattergeo"
           }
          ],
          "scattergl": [
           {
            "marker": {
             "colorbar": {
              "outlinewidth": 0,
              "ticks": ""
             }
            },
            "type": "scattergl"
           }
          ],
          "scattermap": [
           {
            "marker": {
             "colorbar": {
              "outlinewidth": 0,
              "ticks": ""
             }
            },
            "type": "scattermap"
           }
          ],
          "scattermapbox": [
           {
            "marker": {
             "colorbar": {
              "outlinewidth": 0,
              "ticks": ""
             }
            },
            "type": "scattermapbox"
           }
          ],
          "scatterpolar": [
           {
            "marker": {
             "colorbar": {
              "outlinewidth": 0,
              "ticks": ""
             }
            },
            "type": "scatterpolar"
           }
          ],
          "scatterpolargl": [
           {
            "marker": {
             "colorbar": {
              "outlinewidth": 0,
              "ticks": ""
             }
            },
            "type": "scatterpolargl"
           }
          ],
          "scatterternary": [
           {
            "marker": {
             "colorbar": {
              "outlinewidth": 0,
              "ticks": ""
             }
            },
            "type": "scatterternary"
           }
          ],
          "surface": [
           {
            "colorbar": {
             "outlinewidth": 0,
             "ticks": ""
            },
            "colorscale": [
             [
              0,
              "#0d0887"
             ],
             [
              0.1111111111111111,
              "#46039f"
             ],
             [
              0.2222222222222222,
              "#7201a8"
             ],
             [
              0.3333333333333333,
              "#9c179e"
             ],
             [
              0.4444444444444444,
              "#bd3786"
             ],
             [
              0.5555555555555556,
              "#d8576b"
             ],
             [
              0.6666666666666666,
              "#ed7953"
             ],
             [
              0.7777777777777778,
              "#fb9f3a"
             ],
             [
              0.8888888888888888,
              "#fdca26"
             ],
             [
              1,
              "#f0f921"
             ]
            ],
            "type": "surface"
           }
          ],
          "table": [
           {
            "cells": {
             "fill": {
              "color": "#EBF0F8"
             },
             "line": {
              "color": "white"
             }
            },
            "header": {
             "fill": {
              "color": "#C8D4E3"
             },
             "line": {
              "color": "white"
             }
            },
            "type": "table"
           }
          ]
         },
         "layout": {
          "annotationdefaults": {
           "arrowcolor": "#2a3f5f",
           "arrowhead": 0,
           "arrowwidth": 1
          },
          "autotypenumbers": "strict",
          "coloraxis": {
           "colorbar": {
            "outlinewidth": 0,
            "ticks": ""
           }
          },
          "colorscale": {
           "diverging": [
            [
             0,
             "#8e0152"
            ],
            [
             0.1,
             "#c51b7d"
            ],
            [
             0.2,
             "#de77ae"
            ],
            [
             0.3,
             "#f1b6da"
            ],
            [
             0.4,
             "#fde0ef"
            ],
            [
             0.5,
             "#f7f7f7"
            ],
            [
             0.6,
             "#e6f5d0"
            ],
            [
             0.7,
             "#b8e186"
            ],
            [
             0.8,
             "#7fbc41"
            ],
            [
             0.9,
             "#4d9221"
            ],
            [
             1,
             "#276419"
            ]
           ],
           "sequential": [
            [
             0,
             "#0d0887"
            ],
            [
             0.1111111111111111,
             "#46039f"
            ],
            [
             0.2222222222222222,
             "#7201a8"
            ],
            [
             0.3333333333333333,
             "#9c179e"
            ],
            [
             0.4444444444444444,
             "#bd3786"
            ],
            [
             0.5555555555555556,
             "#d8576b"
            ],
            [
             0.6666666666666666,
             "#ed7953"
            ],
            [
             0.7777777777777778,
             "#fb9f3a"
            ],
            [
             0.8888888888888888,
             "#fdca26"
            ],
            [
             1,
             "#f0f921"
            ]
           ],
           "sequentialminus": [
            [
             0,
             "#0d0887"
            ],
            [
             0.1111111111111111,
             "#46039f"
            ],
            [
             0.2222222222222222,
             "#7201a8"
            ],
            [
             0.3333333333333333,
             "#9c179e"
            ],
            [
             0.4444444444444444,
             "#bd3786"
            ],
            [
             0.5555555555555556,
             "#d8576b"
            ],
            [
             0.6666666666666666,
             "#ed7953"
            ],
            [
             0.7777777777777778,
             "#fb9f3a"
            ],
            [
             0.8888888888888888,
             "#fdca26"
            ],
            [
             1,
             "#f0f921"
            ]
           ]
          },
          "colorway": [
           "#636efa",
           "#EF553B",
           "#00cc96",
           "#ab63fa",
           "#FFA15A",
           "#19d3f3",
           "#FF6692",
           "#B6E880",
           "#FF97FF",
           "#FECB52"
          ],
          "font": {
           "color": "#2a3f5f"
          },
          "geo": {
           "bgcolor": "white",
           "lakecolor": "white",
           "landcolor": "#E5ECF6",
           "showlakes": true,
           "showland": true,
           "subunitcolor": "white"
          },
          "hoverlabel": {
           "align": "left"
          },
          "hovermode": "closest",
          "mapbox": {
           "style": "light"
          },
          "paper_bgcolor": "white",
          "plot_bgcolor": "#E5ECF6",
          "polar": {
           "angularaxis": {
            "gridcolor": "white",
            "linecolor": "white",
            "ticks": ""
           },
           "bgcolor": "#E5ECF6",
           "radialaxis": {
            "gridcolor": "white",
            "linecolor": "white",
            "ticks": ""
           }
          },
          "scene": {
           "xaxis": {
            "backgroundcolor": "#E5ECF6",
            "gridcolor": "white",
            "gridwidth": 2,
            "linecolor": "white",
            "showbackground": true,
            "ticks": "",
            "zerolinecolor": "white"
           },
           "yaxis": {
            "backgroundcolor": "#E5ECF6",
            "gridcolor": "white",
            "gridwidth": 2,
            "linecolor": "white",
            "showbackground": true,
            "ticks": "",
            "zerolinecolor": "white"
           },
           "zaxis": {
            "backgroundcolor": "#E5ECF6",
            "gridcolor": "white",
            "gridwidth": 2,
            "linecolor": "white",
            "showbackground": true,
            "ticks": "",
            "zerolinecolor": "white"
           }
          },
          "shapedefaults": {
           "line": {
            "color": "#2a3f5f"
           }
          },
          "ternary": {
           "aaxis": {
            "gridcolor": "white",
            "linecolor": "white",
            "ticks": ""
           },
           "baxis": {
            "gridcolor": "white",
            "linecolor": "white",
            "ticks": ""
           },
           "bgcolor": "#E5ECF6",
           "caxis": {
            "gridcolor": "white",
            "linecolor": "white",
            "ticks": ""
           }
          },
          "title": {
           "x": 0.05
          },
          "xaxis": {
           "automargin": true,
           "gridcolor": "white",
           "linecolor": "white",
           "ticks": "",
           "title": {
            "standoff": 15
           },
           "zerolinecolor": "white",
           "zerolinewidth": 2
          },
          "yaxis": {
           "automargin": true,
           "gridcolor": "white",
           "linecolor": "white",
           "ticks": "",
           "title": {
            "standoff": 15
           },
           "zerolinecolor": "white",
           "zerolinewidth": 2
          }
         }
        },
        "title": {
         "text": "Average Miles vs Car Condition for each Manufacturer"
        },
        "xaxis": {
         "anchor": "y",
         "domain": [
          0,
          1
         ],
         "title": {
          "text": "Car Manufacturer"
         }
        },
        "yaxis": {
         "anchor": "x",
         "domain": [
          0,
          1
         ],
         "title": {
          "text": "Average Miles"
         }
        }
       }
      }
     },
     "metadata": {},
     "output_type": "display_data"
    }
   ],
   "source": [
    "fig = px.histogram(df_2, x=\"manufacturer\", y = 'odometer', color = 'condition', title=\"Average Miles vs Car Condition for each Manufacturer\")\n",
    "\n",
    "fig.update_xaxes(title_text=\"Car Manufacturer\")\n",
    "fig.update_yaxes(title_text=\"Average Miles\")\n",
    "fig.show()"
   ]
  },
  {
   "cell_type": "code",
   "execution_count": null,
   "id": "2608fede",
   "metadata": {},
   "outputs": [
    {
     "data": {
      "text/html": [
       "<div>\n",
       "<style scoped>\n",
       "    .dataframe tbody tr th:only-of-type {\n",
       "        vertical-align: middle;\n",
       "    }\n",
       "\n",
       "    .dataframe tbody tr th {\n",
       "        vertical-align: top;\n",
       "    }\n",
       "\n",
       "    .dataframe thead th {\n",
       "        text-align: right;\n",
       "    }\n",
       "</style>\n",
       "<table border=\"1\" class=\"dataframe\">\n",
       "  <thead>\n",
       "    <tr style=\"text-align: right;\">\n",
       "      <th></th>\n",
       "      <th>paint_color</th>\n",
       "      <th>count</th>\n",
       "    </tr>\n",
       "  </thead>\n",
       "  <tbody>\n",
       "    <tr>\n",
       "      <th>0</th>\n",
       "      <td>white</td>\n",
       "      <td>10029</td>\n",
       "    </tr>\n",
       "    <tr>\n",
       "      <th>1</th>\n",
       "      <td>black</td>\n",
       "      <td>7692</td>\n",
       "    </tr>\n",
       "    <tr>\n",
       "      <th>2</th>\n",
       "      <td>silver</td>\n",
       "      <td>6244</td>\n",
       "    </tr>\n",
       "    <tr>\n",
       "      <th>3</th>\n",
       "      <td>grey</td>\n",
       "      <td>5037</td>\n",
       "    </tr>\n",
       "    <tr>\n",
       "      <th>4</th>\n",
       "      <td>blue</td>\n",
       "      <td>4475</td>\n",
       "    </tr>\n",
       "    <tr>\n",
       "      <th>5</th>\n",
       "      <td>red</td>\n",
       "      <td>4421</td>\n",
       "    </tr>\n",
       "    <tr>\n",
       "      <th>6</th>\n",
       "      <td>green</td>\n",
       "      <td>1396</td>\n",
       "    </tr>\n",
       "    <tr>\n",
       "      <th>7</th>\n",
       "      <td>brown</td>\n",
       "      <td>1223</td>\n",
       "    </tr>\n",
       "    <tr>\n",
       "      <th>8</th>\n",
       "      <td>custom</td>\n",
       "      <td>1153</td>\n",
       "    </tr>\n",
       "    <tr>\n",
       "      <th>9</th>\n",
       "      <td>yellow</td>\n",
       "      <td>255</td>\n",
       "    </tr>\n",
       "    <tr>\n",
       "      <th>10</th>\n",
       "      <td>orange</td>\n",
       "      <td>231</td>\n",
       "    </tr>\n",
       "    <tr>\n",
       "      <th>11</th>\n",
       "      <td>purple</td>\n",
       "      <td>102</td>\n",
       "    </tr>\n",
       "  </tbody>\n",
       "</table>\n",
       "</div>"
      ],
      "text/plain": [
       "   paint_color  count\n",
       "0        white  10029\n",
       "1        black   7692\n",
       "2       silver   6244\n",
       "3         grey   5037\n",
       "4         blue   4475\n",
       "5          red   4421\n",
       "6        green   1396\n",
       "7        brown   1223\n",
       "8       custom   1153\n",
       "9       yellow    255\n",
       "10      orange    231\n",
       "11      purple    102"
      ]
     },
     "execution_count": 6,
     "metadata": {},
     "output_type": "execute_result"
    }
   ],
   "source": [
    "#MOST POPULAR COLOR AMONG ALL CARS\n",
    "df_3 = df['paint_color'].value_counts().reset_index()\n",
    "df_3.columns = ['paint_color', 'count']\n",
    "df_3"
   ]
  },
  {
   "cell_type": "code",
   "execution_count": 7,
   "id": "11439a13",
   "metadata": {},
   "outputs": [
    {
     "data": {
      "application/vnd.plotly.v1+json": {
       "config": {
        "plotlyServerURL": "https://plot.ly"
       },
       "data": [
        {
         "hovertemplate": "paint_color=%{x}<br>count=%{marker.size}<extra></extra>",
         "legendgroup": "white",
         "marker": {
          "color": "#636efa",
          "size": {
           "bdata": "LSc=",
           "dtype": "i2"
          },
          "sizemode": "area",
          "sizeref": 25.0725,
          "symbol": "circle"
         },
         "mode": "markers",
         "name": "white",
         "orientation": "v",
         "showlegend": true,
         "type": "scatter",
         "x": [
          "white"
         ],
         "xaxis": "x",
         "y": {
          "bdata": "LSc=",
          "dtype": "i2"
         },
         "yaxis": "y"
        },
        {
         "hovertemplate": "paint_color=%{x}<br>count=%{marker.size}<extra></extra>",
         "legendgroup": "black",
         "marker": {
          "color": "#EF553B",
          "size": {
           "bdata": "DB4=",
           "dtype": "i2"
          },
          "sizemode": "area",
          "sizeref": 25.0725,
          "symbol": "circle"
         },
         "mode": "markers",
         "name": "black",
         "orientation": "v",
         "showlegend": true,
         "type": "scatter",
         "x": [
          "black"
         ],
         "xaxis": "x",
         "y": {
          "bdata": "DB4=",
          "dtype": "i2"
         },
         "yaxis": "y"
        },
        {
         "hovertemplate": "paint_color=%{x}<br>count=%{marker.size}<extra></extra>",
         "legendgroup": "silver",
         "marker": {
          "color": "#00cc96",
          "size": {
           "bdata": "ZBg=",
           "dtype": "i2"
          },
          "sizemode": "area",
          "sizeref": 25.0725,
          "symbol": "circle"
         },
         "mode": "markers",
         "name": "silver",
         "orientation": "v",
         "showlegend": true,
         "type": "scatter",
         "x": [
          "silver"
         ],
         "xaxis": "x",
         "y": {
          "bdata": "ZBg=",
          "dtype": "i2"
         },
         "yaxis": "y"
        },
        {
         "hovertemplate": "paint_color=%{x}<br>count=%{marker.size}<extra></extra>",
         "legendgroup": "grey",
         "marker": {
          "color": "#ab63fa",
          "size": {
           "bdata": "rRM=",
           "dtype": "i2"
          },
          "sizemode": "area",
          "sizeref": 25.0725,
          "symbol": "circle"
         },
         "mode": "markers",
         "name": "grey",
         "orientation": "v",
         "showlegend": true,
         "type": "scatter",
         "x": [
          "grey"
         ],
         "xaxis": "x",
         "y": {
          "bdata": "rRM=",
          "dtype": "i2"
         },
         "yaxis": "y"
        },
        {
         "hovertemplate": "paint_color=%{x}<br>count=%{marker.size}<extra></extra>",
         "legendgroup": "blue",
         "marker": {
          "color": "#FFA15A",
          "size": {
           "bdata": "exE=",
           "dtype": "i2"
          },
          "sizemode": "area",
          "sizeref": 25.0725,
          "symbol": "circle"
         },
         "mode": "markers",
         "name": "blue",
         "orientation": "v",
         "showlegend": true,
         "type": "scatter",
         "x": [
          "blue"
         ],
         "xaxis": "x",
         "y": {
          "bdata": "exE=",
          "dtype": "i2"
         },
         "yaxis": "y"
        },
        {
         "hovertemplate": "paint_color=%{x}<br>count=%{marker.size}<extra></extra>",
         "legendgroup": "red",
         "marker": {
          "color": "#19d3f3",
          "size": {
           "bdata": "RRE=",
           "dtype": "i2"
          },
          "sizemode": "area",
          "sizeref": 25.0725,
          "symbol": "circle"
         },
         "mode": "markers",
         "name": "red",
         "orientation": "v",
         "showlegend": true,
         "type": "scatter",
         "x": [
          "red"
         ],
         "xaxis": "x",
         "y": {
          "bdata": "RRE=",
          "dtype": "i2"
         },
         "yaxis": "y"
        },
        {
         "hovertemplate": "paint_color=%{x}<br>count=%{marker.size}<extra></extra>",
         "legendgroup": "green",
         "marker": {
          "color": "#FF6692",
          "size": {
           "bdata": "dAU=",
           "dtype": "i2"
          },
          "sizemode": "area",
          "sizeref": 25.0725,
          "symbol": "circle"
         },
         "mode": "markers",
         "name": "green",
         "orientation": "v",
         "showlegend": true,
         "type": "scatter",
         "x": [
          "green"
         ],
         "xaxis": "x",
         "y": {
          "bdata": "dAU=",
          "dtype": "i2"
         },
         "yaxis": "y"
        },
        {
         "hovertemplate": "paint_color=%{x}<br>count=%{marker.size}<extra></extra>",
         "legendgroup": "brown",
         "marker": {
          "color": "#B6E880",
          "size": {
           "bdata": "xwQ=",
           "dtype": "i2"
          },
          "sizemode": "area",
          "sizeref": 25.0725,
          "symbol": "circle"
         },
         "mode": "markers",
         "name": "brown",
         "orientation": "v",
         "showlegend": true,
         "type": "scatter",
         "x": [
          "brown"
         ],
         "xaxis": "x",
         "y": {
          "bdata": "xwQ=",
          "dtype": "i2"
         },
         "yaxis": "y"
        },
        {
         "hovertemplate": "paint_color=%{x}<br>count=%{marker.size}<extra></extra>",
         "legendgroup": "custom",
         "marker": {
          "color": "#FF97FF",
          "size": {
           "bdata": "gQQ=",
           "dtype": "i2"
          },
          "sizemode": "area",
          "sizeref": 25.0725,
          "symbol": "circle"
         },
         "mode": "markers",
         "name": "custom",
         "orientation": "v",
         "showlegend": true,
         "type": "scatter",
         "x": [
          "custom"
         ],
         "xaxis": "x",
         "y": {
          "bdata": "gQQ=",
          "dtype": "i2"
         },
         "yaxis": "y"
        },
        {
         "hovertemplate": "paint_color=%{x}<br>count=%{marker.size}<extra></extra>",
         "legendgroup": "yellow",
         "marker": {
          "color": "#FECB52",
          "size": {
           "bdata": "/wA=",
           "dtype": "i2"
          },
          "sizemode": "area",
          "sizeref": 25.0725,
          "symbol": "circle"
         },
         "mode": "markers",
         "name": "yellow",
         "orientation": "v",
         "showlegend": true,
         "type": "scatter",
         "x": [
          "yellow"
         ],
         "xaxis": "x",
         "y": {
          "bdata": "/wA=",
          "dtype": "i2"
         },
         "yaxis": "y"
        },
        {
         "hovertemplate": "paint_color=%{x}<br>count=%{marker.size}<extra></extra>",
         "legendgroup": "orange",
         "marker": {
          "color": "#636efa",
          "size": {
           "bdata": "5wA=",
           "dtype": "i2"
          },
          "sizemode": "area",
          "sizeref": 25.0725,
          "symbol": "circle"
         },
         "mode": "markers",
         "name": "orange",
         "orientation": "v",
         "showlegend": true,
         "type": "scatter",
         "x": [
          "orange"
         ],
         "xaxis": "x",
         "y": {
          "bdata": "5wA=",
          "dtype": "i2"
         },
         "yaxis": "y"
        },
        {
         "hovertemplate": "paint_color=%{x}<br>count=%{marker.size}<extra></extra>",
         "legendgroup": "purple",
         "marker": {
          "color": "#EF553B",
          "size": {
           "bdata": "Zg==",
           "dtype": "i1"
          },
          "sizemode": "area",
          "sizeref": 25.0725,
          "symbol": "circle"
         },
         "mode": "markers",
         "name": "purple",
         "orientation": "v",
         "showlegend": true,
         "type": "scatter",
         "x": [
          "purple"
         ],
         "xaxis": "x",
         "y": {
          "bdata": "Zg==",
          "dtype": "i1"
         },
         "yaxis": "y"
        }
       ],
       "layout": {
        "legend": {
         "itemsizing": "constant",
         "title": {
          "text": "paint_color"
         },
         "tracegroupgap": 0
        },
        "template": {
         "data": {
          "bar": [
           {
            "error_x": {
             "color": "#2a3f5f"
            },
            "error_y": {
             "color": "#2a3f5f"
            },
            "marker": {
             "line": {
              "color": "#E5ECF6",
              "width": 0.5
             },
             "pattern": {
              "fillmode": "overlay",
              "size": 10,
              "solidity": 0.2
             }
            },
            "type": "bar"
           }
          ],
          "barpolar": [
           {
            "marker": {
             "line": {
              "color": "#E5ECF6",
              "width": 0.5
             },
             "pattern": {
              "fillmode": "overlay",
              "size": 10,
              "solidity": 0.2
             }
            },
            "type": "barpolar"
           }
          ],
          "carpet": [
           {
            "aaxis": {
             "endlinecolor": "#2a3f5f",
             "gridcolor": "white",
             "linecolor": "white",
             "minorgridcolor": "white",
             "startlinecolor": "#2a3f5f"
            },
            "baxis": {
             "endlinecolor": "#2a3f5f",
             "gridcolor": "white",
             "linecolor": "white",
             "minorgridcolor": "white",
             "startlinecolor": "#2a3f5f"
            },
            "type": "carpet"
           }
          ],
          "choropleth": [
           {
            "colorbar": {
             "outlinewidth": 0,
             "ticks": ""
            },
            "type": "choropleth"
           }
          ],
          "contour": [
           {
            "colorbar": {
             "outlinewidth": 0,
             "ticks": ""
            },
            "colorscale": [
             [
              0,
              "#0d0887"
             ],
             [
              0.1111111111111111,
              "#46039f"
             ],
             [
              0.2222222222222222,
              "#7201a8"
             ],
             [
              0.3333333333333333,
              "#9c179e"
             ],
             [
              0.4444444444444444,
              "#bd3786"
             ],
             [
              0.5555555555555556,
              "#d8576b"
             ],
             [
              0.6666666666666666,
              "#ed7953"
             ],
             [
              0.7777777777777778,
              "#fb9f3a"
             ],
             [
              0.8888888888888888,
              "#fdca26"
             ],
             [
              1,
              "#f0f921"
             ]
            ],
            "type": "contour"
           }
          ],
          "contourcarpet": [
           {
            "colorbar": {
             "outlinewidth": 0,
             "ticks": ""
            },
            "type": "contourcarpet"
           }
          ],
          "heatmap": [
           {
            "colorbar": {
             "outlinewidth": 0,
             "ticks": ""
            },
            "colorscale": [
             [
              0,
              "#0d0887"
             ],
             [
              0.1111111111111111,
              "#46039f"
             ],
             [
              0.2222222222222222,
              "#7201a8"
             ],
             [
              0.3333333333333333,
              "#9c179e"
             ],
             [
              0.4444444444444444,
              "#bd3786"
             ],
             [
              0.5555555555555556,
              "#d8576b"
             ],
             [
              0.6666666666666666,
              "#ed7953"
             ],
             [
              0.7777777777777778,
              "#fb9f3a"
             ],
             [
              0.8888888888888888,
              "#fdca26"
             ],
             [
              1,
              "#f0f921"
             ]
            ],
            "type": "heatmap"
           }
          ],
          "histogram": [
           {
            "marker": {
             "pattern": {
              "fillmode": "overlay",
              "size": 10,
              "solidity": 0.2
             }
            },
            "type": "histogram"
           }
          ],
          "histogram2d": [
           {
            "colorbar": {
             "outlinewidth": 0,
             "ticks": ""
            },
            "colorscale": [
             [
              0,
              "#0d0887"
             ],
             [
              0.1111111111111111,
              "#46039f"
             ],
             [
              0.2222222222222222,
              "#7201a8"
             ],
             [
              0.3333333333333333,
              "#9c179e"
             ],
             [
              0.4444444444444444,
              "#bd3786"
             ],
             [
              0.5555555555555556,
              "#d8576b"
             ],
             [
              0.6666666666666666,
              "#ed7953"
             ],
             [
              0.7777777777777778,
              "#fb9f3a"
             ],
             [
              0.8888888888888888,
              "#fdca26"
             ],
             [
              1,
              "#f0f921"
             ]
            ],
            "type": "histogram2d"
           }
          ],
          "histogram2dcontour": [
           {
            "colorbar": {
             "outlinewidth": 0,
             "ticks": ""
            },
            "colorscale": [
             [
              0,
              "#0d0887"
             ],
             [
              0.1111111111111111,
              "#46039f"
             ],
             [
              0.2222222222222222,
              "#7201a8"
             ],
             [
              0.3333333333333333,
              "#9c179e"
             ],
             [
              0.4444444444444444,
              "#bd3786"
             ],
             [
              0.5555555555555556,
              "#d8576b"
             ],
             [
              0.6666666666666666,
              "#ed7953"
             ],
             [
              0.7777777777777778,
              "#fb9f3a"
             ],
             [
              0.8888888888888888,
              "#fdca26"
             ],
             [
              1,
              "#f0f921"
             ]
            ],
            "type": "histogram2dcontour"
           }
          ],
          "mesh3d": [
           {
            "colorbar": {
             "outlinewidth": 0,
             "ticks": ""
            },
            "type": "mesh3d"
           }
          ],
          "parcoords": [
           {
            "line": {
             "colorbar": {
              "outlinewidth": 0,
              "ticks": ""
             }
            },
            "type": "parcoords"
           }
          ],
          "pie": [
           {
            "automargin": true,
            "type": "pie"
           }
          ],
          "scatter": [
           {
            "fillpattern": {
             "fillmode": "overlay",
             "size": 10,
             "solidity": 0.2
            },
            "type": "scatter"
           }
          ],
          "scatter3d": [
           {
            "line": {
             "colorbar": {
              "outlinewidth": 0,
              "ticks": ""
             }
            },
            "marker": {
             "colorbar": {
              "outlinewidth": 0,
              "ticks": ""
             }
            },
            "type": "scatter3d"
           }
          ],
          "scattercarpet": [
           {
            "marker": {
             "colorbar": {
              "outlinewidth": 0,
              "ticks": ""
             }
            },
            "type": "scattercarpet"
           }
          ],
          "scattergeo": [
           {
            "marker": {
             "colorbar": {
              "outlinewidth": 0,
              "ticks": ""
             }
            },
            "type": "scattergeo"
           }
          ],
          "scattergl": [
           {
            "marker": {
             "colorbar": {
              "outlinewidth": 0,
              "ticks": ""
             }
            },
            "type": "scattergl"
           }
          ],
          "scattermap": [
           {
            "marker": {
             "colorbar": {
              "outlinewidth": 0,
              "ticks": ""
             }
            },
            "type": "scattermap"
           }
          ],
          "scattermapbox": [
           {
            "marker": {
             "colorbar": {
              "outlinewidth": 0,
              "ticks": ""
             }
            },
            "type": "scattermapbox"
           }
          ],
          "scatterpolar": [
           {
            "marker": {
             "colorbar": {
              "outlinewidth": 0,
              "ticks": ""
             }
            },
            "type": "scatterpolar"
           }
          ],
          "scatterpolargl": [
           {
            "marker": {
             "colorbar": {
              "outlinewidth": 0,
              "ticks": ""
             }
            },
            "type": "scatterpolargl"
           }
          ],
          "scatterternary": [
           {
            "marker": {
             "colorbar": {
              "outlinewidth": 0,
              "ticks": ""
             }
            },
            "type": "scatterternary"
           }
          ],
          "surface": [
           {
            "colorbar": {
             "outlinewidth": 0,
             "ticks": ""
            },
            "colorscale": [
             [
              0,
              "#0d0887"
             ],
             [
              0.1111111111111111,
              "#46039f"
             ],
             [
              0.2222222222222222,
              "#7201a8"
             ],
             [
              0.3333333333333333,
              "#9c179e"
             ],
             [
              0.4444444444444444,
              "#bd3786"
             ],
             [
              0.5555555555555556,
              "#d8576b"
             ],
             [
              0.6666666666666666,
              "#ed7953"
             ],
             [
              0.7777777777777778,
              "#fb9f3a"
             ],
             [
              0.8888888888888888,
              "#fdca26"
             ],
             [
              1,
              "#f0f921"
             ]
            ],
            "type": "surface"
           }
          ],
          "table": [
           {
            "cells": {
             "fill": {
              "color": "#EBF0F8"
             },
             "line": {
              "color": "white"
             }
            },
            "header": {
             "fill": {
              "color": "#C8D4E3"
             },
             "line": {
              "color": "white"
             }
            },
            "type": "table"
           }
          ]
         },
         "layout": {
          "annotationdefaults": {
           "arrowcolor": "#2a3f5f",
           "arrowhead": 0,
           "arrowwidth": 1
          },
          "autotypenumbers": "strict",
          "coloraxis": {
           "colorbar": {
            "outlinewidth": 0,
            "ticks": ""
           }
          },
          "colorscale": {
           "diverging": [
            [
             0,
             "#8e0152"
            ],
            [
             0.1,
             "#c51b7d"
            ],
            [
             0.2,
             "#de77ae"
            ],
            [
             0.3,
             "#f1b6da"
            ],
            [
             0.4,
             "#fde0ef"
            ],
            [
             0.5,
             "#f7f7f7"
            ],
            [
             0.6,
             "#e6f5d0"
            ],
            [
             0.7,
             "#b8e186"
            ],
            [
             0.8,
             "#7fbc41"
            ],
            [
             0.9,
             "#4d9221"
            ],
            [
             1,
             "#276419"
            ]
           ],
           "sequential": [
            [
             0,
             "#0d0887"
            ],
            [
             0.1111111111111111,
             "#46039f"
            ],
            [
             0.2222222222222222,
             "#7201a8"
            ],
            [
             0.3333333333333333,
             "#9c179e"
            ],
            [
             0.4444444444444444,
             "#bd3786"
            ],
            [
             0.5555555555555556,
             "#d8576b"
            ],
            [
             0.6666666666666666,
             "#ed7953"
            ],
            [
             0.7777777777777778,
             "#fb9f3a"
            ],
            [
             0.8888888888888888,
             "#fdca26"
            ],
            [
             1,
             "#f0f921"
            ]
           ],
           "sequentialminus": [
            [
             0,
             "#0d0887"
            ],
            [
             0.1111111111111111,
             "#46039f"
            ],
            [
             0.2222222222222222,
             "#7201a8"
            ],
            [
             0.3333333333333333,
             "#9c179e"
            ],
            [
             0.4444444444444444,
             "#bd3786"
            ],
            [
             0.5555555555555556,
             "#d8576b"
            ],
            [
             0.6666666666666666,
             "#ed7953"
            ],
            [
             0.7777777777777778,
             "#fb9f3a"
            ],
            [
             0.8888888888888888,
             "#fdca26"
            ],
            [
             1,
             "#f0f921"
            ]
           ]
          },
          "colorway": [
           "#636efa",
           "#EF553B",
           "#00cc96",
           "#ab63fa",
           "#FFA15A",
           "#19d3f3",
           "#FF6692",
           "#B6E880",
           "#FF97FF",
           "#FECB52"
          ],
          "font": {
           "color": "#2a3f5f"
          },
          "geo": {
           "bgcolor": "white",
           "lakecolor": "white",
           "landcolor": "#E5ECF6",
           "showlakes": true,
           "showland": true,
           "subunitcolor": "white"
          },
          "hoverlabel": {
           "align": "left"
          },
          "hovermode": "closest",
          "mapbox": {
           "style": "light"
          },
          "paper_bgcolor": "white",
          "plot_bgcolor": "#E5ECF6",
          "polar": {
           "angularaxis": {
            "gridcolor": "white",
            "linecolor": "white",
            "ticks": ""
           },
           "bgcolor": "#E5ECF6",
           "radialaxis": {
            "gridcolor": "white",
            "linecolor": "white",
            "ticks": ""
           }
          },
          "scene": {
           "xaxis": {
            "backgroundcolor": "#E5ECF6",
            "gridcolor": "white",
            "gridwidth": 2,
            "linecolor": "white",
            "showbackground": true,
            "ticks": "",
            "zerolinecolor": "white"
           },
           "yaxis": {
            "backgroundcolor": "#E5ECF6",
            "gridcolor": "white",
            "gridwidth": 2,
            "linecolor": "white",
            "showbackground": true,
            "ticks": "",
            "zerolinecolor": "white"
           },
           "zaxis": {
            "backgroundcolor": "#E5ECF6",
            "gridcolor": "white",
            "gridwidth": 2,
            "linecolor": "white",
            "showbackground": true,
            "ticks": "",
            "zerolinecolor": "white"
           }
          },
          "shapedefaults": {
           "line": {
            "color": "#2a3f5f"
           }
          },
          "ternary": {
           "aaxis": {
            "gridcolor": "white",
            "linecolor": "white",
            "ticks": ""
           },
           "baxis": {
            "gridcolor": "white",
            "linecolor": "white",
            "ticks": ""
           },
           "bgcolor": "#E5ECF6",
           "caxis": {
            "gridcolor": "white",
            "linecolor": "white",
            "ticks": ""
           }
          },
          "title": {
           "x": 0.05
          },
          "xaxis": {
           "automargin": true,
           "gridcolor": "white",
           "linecolor": "white",
           "ticks": "",
           "title": {
            "standoff": 15
           },
           "zerolinecolor": "white",
           "zerolinewidth": 2
          },
          "yaxis": {
           "automargin": true,
           "gridcolor": "white",
           "linecolor": "white",
           "ticks": "",
           "title": {
            "standoff": 15
           },
           "zerolinecolor": "white",
           "zerolinewidth": 2
          }
         }
        },
        "title": {
         "text": "Scatter Plot of Paint Colors vs. Car Count"
        },
        "xaxis": {
         "anchor": "y",
         "categoryarray": [
          "white",
          "black",
          "silver",
          "grey",
          "blue",
          "red",
          "green",
          "brown",
          "custom",
          "yellow",
          "orange",
          "purple"
         ],
         "categoryorder": "array",
         "domain": [
          0,
          1
         ],
         "title": {
          "text": "Paint Color"
         }
        },
        "yaxis": {
         "anchor": "x",
         "domain": [
          0,
          1
         ],
         "title": {
          "text": "Count of Cars"
         }
        }
       }
      }
     },
     "metadata": {},
     "output_type": "display_data"
    }
   ],
   "source": [
    "fig = px.scatter(df_3, x='paint_color', y='count', \n",
    "                 title='Scatter Plot of Paint Colors vs. Car Count',\n",
    "                 size='count', color='paint_color')\n",
    "fig.update_layout(xaxis_title='Paint Color', yaxis_title='Count of Cars')\n",
    "fig.show()"
   ]
  },
  {
   "cell_type": "code",
   "execution_count": null,
   "id": "5009339e",
   "metadata": {},
   "outputs": [],
   "source": []
  }
 ],
 "metadata": {
  "ExecuteTimeLog": [
   {
    "duration": 391,
    "start_time": "2025-03-23T21:46:30.499Z"
   },
   {
    "duration": 69,
    "start_time": "2025-03-23T21:46:39.655Z"
   },
   {
    "duration": 237,
    "start_time": "2025-03-23T22:26:38.480Z"
   },
   {
    "duration": 10,
    "start_time": "2025-03-23T22:26:44.220Z"
   },
   {
    "duration": 13,
    "start_time": "2025-03-23T22:26:51.890Z"
   },
   {
    "duration": 23,
    "start_time": "2025-03-23T22:27:03.756Z"
   },
   {
    "duration": 402,
    "start_time": "2025-03-23T22:27:10.835Z"
   },
   {
    "duration": 13,
    "start_time": "2025-03-23T22:27:25.496Z"
   },
   {
    "duration": 17,
    "start_time": "2025-03-23T22:27:54.032Z"
   },
   {
    "duration": 18,
    "start_time": "2025-03-23T22:28:06.008Z"
   },
   {
    "duration": 16,
    "start_time": "2025-03-23T22:28:35.850Z"
   },
   {
    "duration": 9,
    "start_time": "2025-03-23T22:28:46.177Z"
   },
   {
    "duration": 281,
    "start_time": "2025-03-23T22:28:54.608Z"
   },
   {
    "duration": 8,
    "start_time": "2025-03-23T22:29:03.526Z"
   },
   {
    "duration": 7,
    "start_time": "2025-03-23T22:30:30.508Z"
   },
   {
    "duration": 7,
    "start_time": "2025-03-23T22:30:36.208Z"
   },
   {
    "duration": 9,
    "start_time": "2025-03-23T22:32:36.431Z"
   },
   {
    "duration": 20,
    "start_time": "2025-03-23T22:32:40.378Z"
   },
   {
    "duration": 8,
    "start_time": "2025-03-23T22:32:57.671Z"
   },
   {
    "duration": 7,
    "start_time": "2025-03-23T22:33:04.238Z"
   },
   {
    "duration": 4,
    "start_time": "2025-03-23T22:39:00.071Z"
   },
   {
    "duration": 17,
    "start_time": "2025-03-23T22:41:20.054Z"
   },
   {
    "duration": 4,
    "start_time": "2025-03-23T22:41:33.081Z"
   },
   {
    "duration": 138,
    "start_time": "2025-03-23T22:41:36.713Z"
   },
   {
    "duration": 389,
    "start_time": "2025-03-23T22:41:38.230Z"
   },
   {
    "duration": 38,
    "start_time": "2025-03-23T22:42:15.527Z"
   },
   {
    "duration": 218,
    "start_time": "2025-03-23T22:43:57.186Z"
   },
   {
    "duration": 14,
    "start_time": "2025-03-23T22:45:03.282Z"
   },
   {
    "duration": 77,
    "start_time": "2025-03-23T22:45:47.029Z"
   },
   {
    "duration": 22,
    "start_time": "2025-03-23T22:45:52.690Z"
   },
   {
    "duration": 21,
    "start_time": "2025-03-23T22:46:47.010Z"
   },
   {
    "duration": 124,
    "start_time": "2025-03-23T22:51:55.804Z"
   },
   {
    "duration": 98,
    "start_time": "2025-03-23T22:52:45.196Z"
   },
   {
    "duration": 141,
    "start_time": "2025-03-23T22:52:51.413Z"
   },
   {
    "duration": 66,
    "start_time": "2025-03-23T22:53:16.244Z"
   },
   {
    "duration": 161,
    "start_time": "2025-03-23T22:53:47.327Z"
   },
   {
    "duration": 78,
    "start_time": "2025-03-23T22:54:03.475Z"
   },
   {
    "duration": 718,
    "start_time": "2025-03-23T22:55:08.337Z"
   },
   {
    "duration": 306,
    "start_time": "2025-03-23T22:55:25.043Z"
   },
   {
    "duration": 171,
    "start_time": "2025-03-23T22:55:29.237Z"
   },
   {
    "duration": 0,
    "start_time": "2025-03-23T22:55:29.410Z"
   },
   {
    "duration": 0,
    "start_time": "2025-03-23T22:55:29.411Z"
   },
   {
    "duration": 0,
    "start_time": "2025-03-23T22:55:29.413Z"
   },
   {
    "duration": 311,
    "start_time": "2025-03-23T22:55:44.344Z"
   },
   {
    "duration": 193,
    "start_time": "2025-03-23T22:55:59.871Z"
   },
   {
    "duration": 346,
    "start_time": "2025-03-23T22:56:03.358Z"
   },
   {
    "duration": 67,
    "start_time": "2025-03-23T22:56:08.388Z"
   },
   {
    "duration": 122,
    "start_time": "2025-03-23T22:56:14.012Z"
   },
   {
    "duration": 47,
    "start_time": "2025-03-23T22:56:33.377Z"
   },
   {
    "duration": 250,
    "start_time": "2025-03-23T22:56:46.561Z"
   },
   {
    "duration": 174,
    "start_time": "2025-03-23T22:56:53.799Z"
   },
   {
    "duration": 359,
    "start_time": "2025-03-23T22:57:06.608Z"
   },
   {
    "duration": 175,
    "start_time": "2025-03-23T22:57:13.570Z"
   },
   {
    "duration": 171,
    "start_time": "2025-03-23T22:57:23.979Z"
   },
   {
    "duration": 95,
    "start_time": "2025-03-23T22:57:31.125Z"
   },
   {
    "duration": 400,
    "start_time": "2025-03-23T22:57:47.060Z"
   },
   {
    "duration": 96,
    "start_time": "2025-03-23T22:58:53.916Z"
   },
   {
    "duration": 305,
    "start_time": "2025-03-23T22:58:56.054Z"
   },
   {
    "duration": 128,
    "start_time": "2025-03-23T22:59:20.796Z"
   },
   {
    "duration": 30,
    "start_time": "2025-03-23T22:59:37.867Z"
   },
   {
    "duration": 31,
    "start_time": "2025-03-23T22:59:46.207Z"
   },
   {
    "duration": 15,
    "start_time": "2025-03-23T23:02:44.875Z"
   },
   {
    "duration": 7,
    "start_time": "2025-03-23T23:03:21.390Z"
   },
   {
    "duration": 12,
    "start_time": "2025-03-23T23:03:26.983Z"
   },
   {
    "duration": 15,
    "start_time": "2025-03-23T23:03:46.300Z"
   },
   {
    "duration": 22,
    "start_time": "2025-03-23T23:04:00.788Z"
   },
   {
    "duration": 15,
    "start_time": "2025-03-23T23:04:54.843Z"
   },
   {
    "duration": 39,
    "start_time": "2025-03-23T23:05:10.804Z"
   },
   {
    "duration": 15,
    "start_time": "2025-03-23T23:05:51.577Z"
   },
   {
    "duration": 17,
    "start_time": "2025-03-23T23:06:05.046Z"
   },
   {
    "duration": 24,
    "start_time": "2025-03-23T23:06:09.615Z"
   },
   {
    "duration": 215,
    "start_time": "2025-03-23T23:08:18.849Z"
   },
   {
    "duration": 315,
    "start_time": "2025-03-23T23:09:25.233Z"
   },
   {
    "duration": 6,
    "start_time": "2025-03-23T23:09:49.829Z"
   },
   {
    "duration": 13,
    "start_time": "2025-03-23T23:09:54.329Z"
   },
   {
    "duration": 11,
    "start_time": "2025-03-23T23:10:21.829Z"
   },
   {
    "duration": 14,
    "start_time": "2025-03-23T23:11:03.015Z"
   },
   {
    "duration": 8966,
    "start_time": "2025-03-23T23:12:54.479Z"
   },
   {
    "duration": 15,
    "start_time": "2025-03-23T23:13:33.499Z"
   },
   {
    "duration": 118,
    "start_time": "2025-03-23T23:13:37.556Z"
   },
   {
    "duration": 12,
    "start_time": "2025-03-23T23:13:37.676Z"
   },
   {
    "duration": 93,
    "start_time": "2025-03-23T23:13:37.690Z"
   },
   {
    "duration": 4,
    "start_time": "2025-03-23T23:13:37.785Z"
   },
   {
    "duration": 423,
    "start_time": "2025-03-23T23:13:51.508Z"
   },
   {
    "duration": 12,
    "start_time": "2025-03-23T23:13:51.934Z"
   },
   {
    "duration": 74,
    "start_time": "2025-03-23T23:13:51.948Z"
   },
   {
    "duration": 5,
    "start_time": "2025-03-23T23:13:52.024Z"
   },
   {
    "duration": 68,
    "start_time": "2025-03-23T23:14:43.240Z"
   },
   {
    "duration": 64,
    "start_time": "2025-03-23T23:14:51.589Z"
   },
   {
    "duration": 15,
    "start_time": "2025-03-23T23:15:11.469Z"
   },
   {
    "duration": 8904,
    "start_time": "2025-03-23T23:15:24.966Z"
   },
   {
    "duration": 39,
    "start_time": "2025-03-23T23:15:51.079Z"
   },
   {
    "duration": 193,
    "start_time": "2025-03-23T23:20:32.036Z"
   },
   {
    "duration": 10,
    "start_time": "2025-03-23T23:20:43.223Z"
   },
   {
    "duration": 14,
    "start_time": "2025-03-23T23:20:48.733Z"
   },
   {
    "duration": 19,
    "start_time": "2025-03-23T23:20:53.865Z"
   },
   {
    "duration": 13,
    "start_time": "2025-03-23T23:21:03.807Z"
   },
   {
    "duration": 64,
    "start_time": "2025-03-23T23:21:36.723Z"
   },
   {
    "duration": 485,
    "start_time": "2025-03-23T23:21:50.872Z"
   },
   {
    "duration": 279,
    "start_time": "2025-03-23T23:21:51.359Z"
   },
   {
    "duration": 0,
    "start_time": "2025-03-23T23:21:51.640Z"
   },
   {
    "duration": 0,
    "start_time": "2025-03-23T23:21:51.641Z"
   },
   {
    "duration": 13,
    "start_time": "2025-03-23T23:22:08.301Z"
   },
   {
    "duration": 351,
    "start_time": "2025-03-23T23:22:10.085Z"
   },
   {
    "duration": 62,
    "start_time": "2025-03-23T23:22:48.860Z"
   },
   {
    "duration": 64,
    "start_time": "2025-03-23T23:23:40.349Z"
   },
   {
    "duration": 61,
    "start_time": "2025-03-23T23:23:56.427Z"
   },
   {
    "duration": 36,
    "start_time": "2025-03-23T23:24:36.973Z"
   },
   {
    "duration": 36,
    "start_time": "2025-03-23T23:24:55.503Z"
   },
   {
    "duration": 5,
    "start_time": "2025-03-23T23:25:07.456Z"
   },
   {
    "duration": 67,
    "start_time": "2025-03-23T23:25:11.207Z"
   },
   {
    "duration": 252,
    "start_time": "2025-03-24T00:41:24.983Z"
   },
   {
    "duration": 120,
    "start_time": "2025-03-24T00:43:35.317Z"
   },
   {
    "duration": 13,
    "start_time": "2025-03-24T00:43:35.440Z"
   },
   {
    "duration": 79,
    "start_time": "2025-03-24T00:43:35.455Z"
   },
   {
    "duration": 76,
    "start_time": "2025-03-24T00:43:58.652Z"
   },
   {
    "duration": 4,
    "start_time": "2025-03-24T00:44:05.780Z"
   },
   {
    "duration": 16,
    "start_time": "2025-03-24T00:44:10.024Z"
   },
   {
    "duration": 8844,
    "start_time": "2025-03-24T00:44:15.636Z"
   },
   {
    "duration": 26,
    "start_time": "2025-03-24T00:46:49.081Z"
   },
   {
    "duration": 14,
    "start_time": "2025-03-24T00:47:12.268Z"
   },
   {
    "duration": 82,
    "start_time": "2025-03-24T00:47:16.305Z"
   },
   {
    "duration": 20,
    "start_time": "2025-03-24T00:47:44.632Z"
   },
   {
    "duration": 14,
    "start_time": "2025-03-24T00:47:53.257Z"
   },
   {
    "duration": 20,
    "start_time": "2025-03-24T00:48:19.145Z"
   },
   {
    "duration": 12,
    "start_time": "2025-03-24T00:49:29.303Z"
   },
   {
    "duration": 4,
    "start_time": "2025-03-24T00:50:08.998Z"
   },
   {
    "duration": 3,
    "start_time": "2025-03-24T00:50:29.075Z"
   },
   {
    "duration": 243,
    "start_time": "2025-03-24T00:51:20.156Z"
   },
   {
    "duration": 3,
    "start_time": "2025-03-24T00:51:20.408Z"
   },
   {
    "duration": 0,
    "start_time": "2025-03-24T00:51:20.413Z"
   },
   {
    "duration": 0,
    "start_time": "2025-03-24T00:51:20.416Z"
   },
   {
    "duration": 17,
    "start_time": "2025-03-24T00:51:32.690Z"
   },
   {
    "duration": 63,
    "start_time": "2025-03-24T00:51:34.984Z"
   },
   {
    "duration": 307,
    "start_time": "2025-03-24T00:52:32.703Z"
   },
   {
    "duration": 42,
    "start_time": "2025-03-24T00:53:00.056Z"
   },
   {
    "duration": 14,
    "start_time": "2025-03-24T00:53:12.263Z"
   },
   {
    "duration": 18,
    "start_time": "2025-03-24T00:53:19.394Z"
   },
   {
    "duration": 18,
    "start_time": "2025-03-24T00:53:26.768Z"
   },
   {
    "duration": 17,
    "start_time": "2025-03-24T00:53:33.654Z"
   },
   {
    "duration": 52,
    "start_time": "2025-03-24T00:55:02.271Z"
   },
   {
    "duration": 78,
    "start_time": "2025-03-24T00:55:14.875Z"
   },
   {
    "duration": 53,
    "start_time": "2025-03-24T00:55:37.373Z"
   },
   {
    "duration": 79,
    "start_time": "2025-03-24T00:56:00.851Z"
   },
   {
    "duration": 76,
    "start_time": "2025-03-24T00:56:10.392Z"
   },
   {
    "duration": 49,
    "start_time": "2025-03-24T00:56:14.258Z"
   },
   {
    "duration": 78,
    "start_time": "2025-03-24T00:56:25.666Z"
   },
   {
    "duration": 49,
    "start_time": "2025-03-24T00:56:36.712Z"
   },
   {
    "duration": 51,
    "start_time": "2025-03-24T00:57:04.825Z"
   },
   {
    "duration": 17,
    "start_time": "2025-03-24T00:57:41.768Z"
   },
   {
    "duration": 16,
    "start_time": "2025-03-24T00:57:52.776Z"
   },
   {
    "duration": 15,
    "start_time": "2025-03-24T00:58:08.248Z"
   },
   {
    "duration": 15,
    "start_time": "2025-03-24T00:58:20.469Z"
   },
   {
    "duration": 20,
    "start_time": "2025-03-24T00:58:31.751Z"
   },
   {
    "duration": 63,
    "start_time": "2025-03-24T01:00:20.224Z"
   },
   {
    "duration": 48,
    "start_time": "2025-03-24T01:00:40.479Z"
   },
   {
    "duration": 16,
    "start_time": "2025-03-24T01:00:47.222Z"
   },
   {
    "duration": 118,
    "start_time": "2025-03-24T01:01:12.340Z"
   },
   {
    "duration": 191,
    "start_time": "2025-03-24T01:01:52.725Z"
   },
   {
    "duration": 122,
    "start_time": "2025-03-24T01:01:59.352Z"
   },
   {
    "duration": 15,
    "start_time": "2025-03-24T01:02:00.603Z"
   },
   {
    "duration": 62,
    "start_time": "2025-03-24T01:02:03.213Z"
   },
   {
    "duration": 199,
    "start_time": "2025-03-24T01:02:05.467Z"
   },
   {
    "duration": 15,
    "start_time": "2025-03-24T01:02:05.669Z"
   },
   {
    "duration": 72,
    "start_time": "2025-03-24T01:02:05.686Z"
   },
   {
    "duration": 18,
    "start_time": "2025-03-24T01:02:05.760Z"
   },
   {
    "duration": 71,
    "start_time": "2025-03-24T01:02:05.780Z"
   },
   {
    "duration": 12,
    "start_time": "2025-03-24T01:02:05.853Z"
   },
   {
    "duration": 14,
    "start_time": "2025-03-24T01:02:27.630Z"
   },
   {
    "duration": 6,
    "start_time": "2025-03-24T01:02:33.105Z"
   },
   {
    "duration": 5,
    "start_time": "2025-03-24T01:02:38.362Z"
   },
   {
    "duration": 6,
    "start_time": "2025-03-24T01:02:49.786Z"
   },
   {
    "duration": 15,
    "start_time": "2025-03-24T01:03:27.774Z"
   },
   {
    "duration": 19,
    "start_time": "2025-03-24T01:03:32.048Z"
   },
   {
    "duration": 26,
    "start_time": "2025-03-24T01:03:54.442Z"
   },
   {
    "duration": 22,
    "start_time": "2025-03-24T01:03:57.612Z"
   },
   {
    "duration": 21,
    "start_time": "2025-03-24T01:04:07.421Z"
   },
   {
    "duration": 15,
    "start_time": "2025-03-24T01:04:35.154Z"
   },
   {
    "duration": 21,
    "start_time": "2025-03-24T01:04:51.224Z"
   },
   {
    "duration": 16,
    "start_time": "2025-03-24T01:05:26.295Z"
   },
   {
    "duration": 18,
    "start_time": "2025-03-24T01:05:30.068Z"
   },
   {
    "duration": 327,
    "start_time": "2025-03-24T01:05:45.266Z"
   },
   {
    "duration": 6,
    "start_time": "2025-03-24T01:06:08.254Z"
   },
   {
    "duration": 7,
    "start_time": "2025-03-24T01:06:12.410Z"
   },
   {
    "duration": 10,
    "start_time": "2025-03-24T01:06:20.779Z"
   },
   {
    "duration": 14,
    "start_time": "2025-03-24T01:07:23.886Z"
   },
   {
    "duration": 262,
    "start_time": "2025-03-24T01:07:35.209Z"
   },
   {
    "duration": 86,
    "start_time": "2025-03-24T01:07:45.667Z"
   },
   {
    "duration": 116,
    "start_time": "2025-03-24T01:08:04.581Z"
   },
   {
    "duration": 12,
    "start_time": "2025-03-24T01:09:42.739Z"
   },
   {
    "duration": 61,
    "start_time": "2025-03-24T01:10:01.429Z"
   },
   {
    "duration": 78,
    "start_time": "2025-03-24T01:10:07.189Z"
   },
   {
    "duration": 66,
    "start_time": "2025-03-24T01:10:11.669Z"
   },
   {
    "duration": 62,
    "start_time": "2025-03-24T01:10:20.550Z"
   }
  ],
  "kernelspec": {
   "display_name": "myenv",
   "language": "python",
   "name": "python3"
  },
  "language_info": {
   "codemirror_mode": {
    "name": "ipython",
    "version": 3
   },
   "file_extension": ".py",
   "mimetype": "text/x-python",
   "name": "python",
   "nbconvert_exporter": "python",
   "pygments_lexer": "ipython3",
   "version": "3.13.2"
  },
  "toc": {
   "base_numbering": 1,
   "nav_menu": {},
   "number_sections": true,
   "sideBar": true,
   "skip_h1_title": true,
   "title_cell": "Table of Contents",
   "title_sidebar": "Contents",
   "toc_cell": false,
   "toc_position": {},
   "toc_section_display": true,
   "toc_window_display": false
  }
 },
 "nbformat": 4,
 "nbformat_minor": 5
}
